{
 "cells": [
  {
   "cell_type": "code",
   "execution_count": 4,
   "metadata": {},
   "outputs": [
    {
     "name": "stdout",
     "output_type": "stream",
     "text": [
      "100\n",
      "400\n",
      "900\n",
      "1600\n",
      "2500\n",
      "3600\n"
     ]
    }
   ],
   "source": [
    "def sqr(num):\n",
    "    return num * num \n",
    "\n",
    "l = [10,20,30,40,50,60]\n",
    "m = map(sqr,l)\n",
    "# print(list(m))\n",
    "\n",
    "for value in m:\n",
    "    print(value)"
   ]
  },
  {
   "cell_type": "code",
   "execution_count": 7,
   "metadata": {},
   "outputs": [
    {
     "name": "stdout",
     "output_type": "stream",
     "text": [
      "1 10 100\n",
      "2 20 200\n",
      "3 30 300\n",
      "4 40 400\n",
      "5 50 500\n",
      "[111, 222, 333, 444, 555]\n"
     ]
    }
   ],
   "source": [
    "def add(num1,num2,num3):\n",
    "    print(num1,num2,num3)\n",
    "    return num1 + num2 + num3\n",
    "\n",
    "l1 = [1,2,3,4,5]\n",
    "l2 = [10,20,30,40,50]\n",
    "l3 = [100,200,300,400,500]\n",
    "\n",
    "result = map(add,l1,l2,l3)\n",
    "print(list(result))"
   ]
  },
  {
   "cell_type": "code",
   "execution_count": 13,
   "metadata": {},
   "outputs": [
    {
     "name": "stdout",
     "output_type": "stream",
     "text": [
      "[10, 20, 60, 70, 80]\n"
     ]
    }
   ],
   "source": [
    "def even(num):\n",
    "    if num % 2 == 0:\n",
    "        return True\n",
    "    else:\n",
    "        return False\n",
    "    \n",
    "l = [10,15,20,25,60,70,75,80,85]\n",
    "result = filter(even,l)\n",
    "print(list(result))\n"
   ]
  },
  {
   "cell_type": "code",
   "execution_count": null,
   "metadata": {},
   "outputs": [],
   "source": [
    "perfect no : 6 1 2 3 = 6\n",
    "1..100"
   ]
  },
  {
   "cell_type": "code",
   "execution_count": 19,
   "metadata": {},
   "outputs": [
    {
     "name": "stdout",
     "output_type": "stream",
     "text": [
      "[6, 28]\n"
     ]
    }
   ],
   "source": [
    "def perfect(num):\n",
    "    sum = 0\n",
    "    for value in range(1,(num // 2)+1):\n",
    "        if num % value == 0:\n",
    "            sum = sum + value\n",
    "            \n",
    "    if sum == num:\n",
    "        return True\n",
    "    else:\n",
    "        return False\n",
    "\n",
    "result = filter(perfect,range(1,101))\n",
    "print(list(result))"
   ]
  },
  {
   "cell_type": "code",
   "execution_count": 14,
   "metadata": {},
   "outputs": [
    {
     "name": "stdout",
     "output_type": "stream",
     "text": [
      "Enter the number100\n",
      "100 <class 'str'>\n"
     ]
    }
   ],
   "source": [
    "num = input(\"Enter the number\")\n",
    "print(num,type(num))"
   ]
  },
  {
   "cell_type": "code",
   "execution_count": null,
   "metadata": {},
   "outputs": [],
   "source": [
    "python filename.py 10 20 "
   ]
  },
  {
   "cell_type": "code",
   "execution_count": 21,
   "metadata": {},
   "outputs": [
    {
     "name": "stdout",
     "output_type": "stream",
     "text": [
      "[100, 400, 900, 1600, 2500, 3600]\n"
     ]
    }
   ],
   "source": [
    "l = [10,20,30,40,50,60]\n",
    "m = map(lambda num: num * num ,l)\n",
    "print(list(m))"
   ]
  },
  {
   "cell_type": "code",
   "execution_count": 22,
   "metadata": {},
   "outputs": [
    {
     "name": "stdout",
     "output_type": "stream",
     "text": [
      "[111, 222, 333, 444, 555]\n"
     ]
    }
   ],
   "source": [
    "l1 = [1,2,3,4,5]\n",
    "l2 = [10,20,30,40,50]\n",
    "l3 = [100,200,300,400,500]\n",
    "\n",
    "result = map(lambda num1,num2,num3 : num1 + num2 + num3 ,l1,l2,l3)\n",
    "print(list(result))\n"
   ]
  },
  {
   "cell_type": "code",
   "execution_count": 23,
   "metadata": {},
   "outputs": [
    {
     "name": "stdout",
     "output_type": "stream",
     "text": [
      "[10, 20, 30, 80, 90]\n"
     ]
    }
   ],
   "source": [
    "l = [10,20,25,30,35,45,80,90]\n",
    "result = filter(lambda num : num % 2 == 0 ,l)\n",
    "print(list(result))"
   ]
  },
  {
   "cell_type": "code",
   "execution_count": 25,
   "metadata": {},
   "outputs": [
    {
     "name": "stdout",
     "output_type": "stream",
     "text": [
      "vowel\n"
     ]
    }
   ],
   "source": [
    "char = \"a\"\n",
    "f = lambda char : \"vowel\" if char in 'aeiou' else \"consonent\"\n",
    "print(f(char))"
   ]
  },
  {
   "cell_type": "code",
   "execution_count": 31,
   "metadata": {},
   "outputs": [
    {
     "name": "stdout",
     "output_type": "stream",
     "text": [
      "[(50, 10), (40, 20), (30, 30), (10, 40), (20, 50)]\n"
     ]
    }
   ],
   "source": [
    "# def func_val(num):\n",
    "#     return num[1]\n",
    "\n",
    "d = {20:50,10:40,30:30,40:20,50:10}\n",
    "l = sorted(d.items(),key = lambda num : num[1])\n",
    "print(l)"
   ]
  },
  {
   "cell_type": "code",
   "execution_count": 36,
   "metadata": {},
   "outputs": [
    {
     "name": "stdout",
     "output_type": "stream",
     "text": [
      "2.3084960331305098\n"
     ]
    }
   ],
   "source": [
    "import timeit \n",
    "t = timeit.timeit(stmt = \"\"\"\n",
    "l2 = []\n",
    "for value in range(1,10000000):\n",
    "    l2.append(value * value)\n",
    "\"\"\", number = 1)\n",
    "print(t)"
   ]
  },
  {
   "cell_type": "code",
   "execution_count": 37,
   "metadata": {},
   "outputs": [
    {
     "name": "stdout",
     "output_type": "stream",
     "text": [
      "6.418882691150429e-06\n"
     ]
    }
   ],
   "source": [
    "import timeit\n",
    "t = timeit.timeit(stmt = \"\"\"\n",
    "m =  map(lambda num : num * num , range(1,10000000))\n",
    "\"\"\",number = 1)\n",
    "print(t)"
   ]
  },
  {
   "cell_type": "code",
   "execution_count": null,
   "metadata": {},
   "outputs": [],
   "source": [
    "Iterators : \n",
    "    __iter__\n",
    "    __next__"
   ]
  },
  {
   "cell_type": "code",
   "execution_count": 38,
   "metadata": {},
   "outputs": [
    {
     "name": "stdout",
     "output_type": "stream",
     "text": [
      "['__add__', '__class__', '__contains__', '__delattr__', '__delitem__', '__dir__', '__doc__', '__eq__', '__format__', '__ge__', '__getattribute__', '__getitem__', '__gt__', '__hash__', '__iadd__', '__imul__', '__init__', '__init_subclass__', '__iter__', '__le__', '__len__', '__lt__', '__mul__', '__ne__', '__new__', '__reduce__', '__reduce_ex__', '__repr__', '__reversed__', '__rmul__', '__setattr__', '__setitem__', '__sizeof__', '__str__', '__subclasshook__', 'append', 'clear', 'copy', 'count', 'extend', 'index', 'insert', 'pop', 'remove', 'reverse', 'sort']\n"
     ]
    }
   ],
   "source": [
    "print(dir(list))"
   ]
  },
  {
   "cell_type": "code",
   "execution_count": 43,
   "metadata": {},
   "outputs": [
    {
     "name": "stdout",
     "output_type": "stream",
     "text": [
      "<list_iterator object at 0x000001EA5274F160>\n",
      "10\n",
      "20\n",
      "30\n",
      "40\n",
      "50\n",
      "60\n"
     ]
    }
   ],
   "source": [
    "l = [10,20,30,40,50,60]\n",
    "i = iter(l)\n",
    "print(i)\n",
    "for value in i :\n",
    "    print(value)\n",
    "    \n",
    "for value in i :\n",
    "    print(value)"
   ]
  },
  {
   "cell_type": "code",
   "execution_count": 44,
   "metadata": {},
   "outputs": [
    {
     "name": "stdout",
     "output_type": "stream",
     "text": [
      "10\n",
      "20\n",
      "30\n",
      "40\n",
      "50\n",
      "60\n"
     ]
    }
   ],
   "source": [
    "l = [10,20,30,40,50,60]\n",
    "i = iter(l)\n",
    "print(next(i))\n",
    "for value in i :\n",
    "    print(value)"
   ]
  },
  {
   "cell_type": "code",
   "execution_count": null,
   "metadata": {},
   "outputs": [],
   "source": [
    "itertools "
   ]
  },
  {
   "cell_type": "code",
   "execution_count": 45,
   "metadata": {},
   "outputs": [],
   "source": [
    "import itertools"
   ]
  },
  {
   "cell_type": "code",
   "execution_count": 48,
   "metadata": {},
   "outputs": [
    {
     "name": "stdout",
     "output_type": "stream",
     "text": [
      "10\n",
      "20\n",
      "30\n",
      "40\n",
      "50\n",
      "100\n",
      "200\n",
      "300\n",
      "400\n",
      "500\n",
      "600\n",
      "1\n",
      "2\n",
      "3\n",
      "4\n",
      "5\n",
      "10\n",
      "20\n",
      "30\n",
      "40\n",
      "50\n",
      "100\n",
      "200\n",
      "300\n",
      "400\n",
      "500\n",
      "600\n",
      "1\n",
      "2\n",
      "3\n",
      "4\n",
      "5\n"
     ]
    }
   ],
   "source": [
    "l1 = [10,20,30,40,50]\n",
    "l2 = [100,200,300,400,500,600]\n",
    "l3 = [1,2,3,4,5]\n",
    "\n",
    "i = itertools.chain(l1,l2,l3)\n",
    "for value in i:\n",
    "    print(value)\n",
    "\n",
    "j = itertools.chain(l1,l2,l3)    \n",
    "for value in j:\n",
    "    print(value)"
   ]
  },
  {
   "cell_type": "code",
   "execution_count": 51,
   "metadata": {},
   "outputs": [
    {
     "name": "stdout",
     "output_type": "stream",
     "text": [
      "(<itertools._tee object at 0x000001EA52749B48>, <itertools._tee object at 0x000001EA52749D08>, <itertools._tee object at 0x000001EA5266A408>, <itertools._tee object at 0x000001EA5266A508>, <itertools._tee object at 0x000001EA5266A608>)\n"
     ]
    }
   ],
   "source": [
    "l1 = [10,20,30,40,50]\n",
    "l2 = [100,200,300,400,500,600]\n",
    "l3 = [1,2,3,4,5]\n",
    "\n",
    "i = itertools.chain(l1,l2,l3)\n",
    "t = itertools.tee(i,5)\n",
    "print(t)"
   ]
  },
  {
   "cell_type": "code",
   "execution_count": 52,
   "metadata": {},
   "outputs": [
    {
     "name": "stdout",
     "output_type": "stream",
     "text": [
      "10\n",
      "20\n",
      "30\n",
      "40\n",
      "50\n",
      "100\n",
      "200\n",
      "300\n",
      "400\n",
      "500\n",
      "600\n",
      "1\n",
      "2\n",
      "3\n",
      "4\n",
      "5\n"
     ]
    }
   ],
   "source": [
    "for value in t[0]:\n",
    "    print(value)"
   ]
  },
  {
   "cell_type": "code",
   "execution_count": 54,
   "metadata": {},
   "outputs": [],
   "source": [
    "for value in t[0]:\n",
    "    print(value)"
   ]
  },
  {
   "cell_type": "code",
   "execution_count": 56,
   "metadata": {},
   "outputs": [
    {
     "name": "stdout",
     "output_type": "stream",
     "text": [
      "10\n",
      "20\n",
      "30\n",
      "40\n",
      "50\n",
      "100\n",
      "200\n",
      "300\n",
      "400\n",
      "500\n",
      "600\n",
      "1\n",
      "2\n",
      "3\n",
      "4\n",
      "5\n",
      "(<itertools._tee object at 0x000001EA52749B88>, <itertools._tee object at 0x000001EA526DE148>, <itertools._tee object at 0x000001EA527072C8>, <itertools._tee object at 0x000001EA5274E488>, <itertools._tee object at 0x000001EA5274E288>)\n"
     ]
    }
   ],
   "source": [
    "l1 = [10,20,30,40,50]\n",
    "l2 = [100,200,300,400,500,600]\n",
    "l3 = [1,2,3,4,5]\n",
    "\n",
    "i = itertools.chain(l1,l2,l3)\n",
    "for value in i:\n",
    "    print(value)\n",
    "    \n",
    "t =  itertools.tee(i,5)\n",
    "print(t)\n",
    "for value in t[0]:\n",
    "    print(value)"
   ]
  },
  {
   "cell_type": "code",
   "execution_count": 59,
   "metadata": {},
   "outputs": [
    {
     "name": "stdout",
     "output_type": "stream",
     "text": [
      "[(1, 2), (1, 3), (2, 1), (2, 3), (3, 1), (3, 2)]\n",
      "[(1, 2), (1, 3), (2, 3)]\n"
     ]
    }
   ],
   "source": [
    "l = [1,2,3]\n",
    "print(list(itertools.permutations(l,2)))\n",
    "print(list(itertools.combinations(l,2)))"
   ]
  },
  {
   "cell_type": "code",
   "execution_count": 63,
   "metadata": {},
   "outputs": [
    {
     "name": "stdout",
     "output_type": "stream",
     "text": [
      "[('how', 'to', 'learn', 'Machine'), ('how', 'to', 'learn', 'Learning'), ('how', 'to', 'Machine', 'learn'), ('how', 'to', 'Machine', 'Learning'), ('how', 'to', 'Learning', 'learn'), ('how', 'to', 'Learning', 'Machine'), ('how', 'learn', 'to', 'Machine'), ('how', 'learn', 'to', 'Learning'), ('how', 'learn', 'Machine', 'to'), ('how', 'learn', 'Machine', 'Learning'), ('how', 'learn', 'Learning', 'to'), ('how', 'learn', 'Learning', 'Machine'), ('how', 'Machine', 'to', 'learn'), ('how', 'Machine', 'to', 'Learning'), ('how', 'Machine', 'learn', 'to'), ('how', 'Machine', 'learn', 'Learning'), ('how', 'Machine', 'Learning', 'to'), ('how', 'Machine', 'Learning', 'learn'), ('how', 'Learning', 'to', 'learn'), ('how', 'Learning', 'to', 'Machine'), ('how', 'Learning', 'learn', 'to'), ('how', 'Learning', 'learn', 'Machine'), ('how', 'Learning', 'Machine', 'to'), ('how', 'Learning', 'Machine', 'learn'), ('to', 'how', 'learn', 'Machine'), ('to', 'how', 'learn', 'Learning'), ('to', 'how', 'Machine', 'learn'), ('to', 'how', 'Machine', 'Learning'), ('to', 'how', 'Learning', 'learn'), ('to', 'how', 'Learning', 'Machine'), ('to', 'learn', 'how', 'Machine'), ('to', 'learn', 'how', 'Learning'), ('to', 'learn', 'Machine', 'how'), ('to', 'learn', 'Machine', 'Learning'), ('to', 'learn', 'Learning', 'how'), ('to', 'learn', 'Learning', 'Machine'), ('to', 'Machine', 'how', 'learn'), ('to', 'Machine', 'how', 'Learning'), ('to', 'Machine', 'learn', 'how'), ('to', 'Machine', 'learn', 'Learning'), ('to', 'Machine', 'Learning', 'how'), ('to', 'Machine', 'Learning', 'learn'), ('to', 'Learning', 'how', 'learn'), ('to', 'Learning', 'how', 'Machine'), ('to', 'Learning', 'learn', 'how'), ('to', 'Learning', 'learn', 'Machine'), ('to', 'Learning', 'Machine', 'how'), ('to', 'Learning', 'Machine', 'learn'), ('learn', 'how', 'to', 'Machine'), ('learn', 'how', 'to', 'Learning'), ('learn', 'how', 'Machine', 'to'), ('learn', 'how', 'Machine', 'Learning'), ('learn', 'how', 'Learning', 'to'), ('learn', 'how', 'Learning', 'Machine'), ('learn', 'to', 'how', 'Machine'), ('learn', 'to', 'how', 'Learning'), ('learn', 'to', 'Machine', 'how'), ('learn', 'to', 'Machine', 'Learning'), ('learn', 'to', 'Learning', 'how'), ('learn', 'to', 'Learning', 'Machine'), ('learn', 'Machine', 'how', 'to'), ('learn', 'Machine', 'how', 'Learning'), ('learn', 'Machine', 'to', 'how'), ('learn', 'Machine', 'to', 'Learning'), ('learn', 'Machine', 'Learning', 'how'), ('learn', 'Machine', 'Learning', 'to'), ('learn', 'Learning', 'how', 'to'), ('learn', 'Learning', 'how', 'Machine'), ('learn', 'Learning', 'to', 'how'), ('learn', 'Learning', 'to', 'Machine'), ('learn', 'Learning', 'Machine', 'how'), ('learn', 'Learning', 'Machine', 'to'), ('Machine', 'how', 'to', 'learn'), ('Machine', 'how', 'to', 'Learning'), ('Machine', 'how', 'learn', 'to'), ('Machine', 'how', 'learn', 'Learning'), ('Machine', 'how', 'Learning', 'to'), ('Machine', 'how', 'Learning', 'learn'), ('Machine', 'to', 'how', 'learn'), ('Machine', 'to', 'how', 'Learning'), ('Machine', 'to', 'learn', 'how'), ('Machine', 'to', 'learn', 'Learning'), ('Machine', 'to', 'Learning', 'how'), ('Machine', 'to', 'Learning', 'learn'), ('Machine', 'learn', 'how', 'to'), ('Machine', 'learn', 'how', 'Learning'), ('Machine', 'learn', 'to', 'how'), ('Machine', 'learn', 'to', 'Learning'), ('Machine', 'learn', 'Learning', 'how'), ('Machine', 'learn', 'Learning', 'to'), ('Machine', 'Learning', 'how', 'to'), ('Machine', 'Learning', 'how', 'learn'), ('Machine', 'Learning', 'to', 'how'), ('Machine', 'Learning', 'to', 'learn'), ('Machine', 'Learning', 'learn', 'how'), ('Machine', 'Learning', 'learn', 'to'), ('Learning', 'how', 'to', 'learn'), ('Learning', 'how', 'to', 'Machine'), ('Learning', 'how', 'learn', 'to'), ('Learning', 'how', 'learn', 'Machine'), ('Learning', 'how', 'Machine', 'to'), ('Learning', 'how', 'Machine', 'learn'), ('Learning', 'to', 'how', 'learn'), ('Learning', 'to', 'how', 'Machine'), ('Learning', 'to', 'learn', 'how'), ('Learning', 'to', 'learn', 'Machine'), ('Learning', 'to', 'Machine', 'how'), ('Learning', 'to', 'Machine', 'learn'), ('Learning', 'learn', 'how', 'to'), ('Learning', 'learn', 'how', 'Machine'), ('Learning', 'learn', 'to', 'how'), ('Learning', 'learn', 'to', 'Machine'), ('Learning', 'learn', 'Machine', 'how'), ('Learning', 'learn', 'Machine', 'to'), ('Learning', 'Machine', 'how', 'to'), ('Learning', 'Machine', 'how', 'learn'), ('Learning', 'Machine', 'to', 'how'), ('Learning', 'Machine', 'to', 'learn'), ('Learning', 'Machine', 'learn', 'how'), ('Learning', 'Machine', 'learn', 'to')]\n"
     ]
    }
   ],
   "source": [
    "l = ['how','to','learn','Machine','Learning']\n",
    "print(list(itertools.permutations(l,4)))"
   ]
  },
  {
   "cell_type": "code",
   "execution_count": null,
   "metadata": {},
   "outputs": [],
   "source": [
    "range(10,20) 10.. 19\n"
   ]
  },
  {
   "cell_type": "code",
   "execution_count": 67,
   "metadata": {},
   "outputs": [
    {
     "name": "stdout",
     "output_type": "stream",
     "text": [
      "10\n",
      "15\n",
      "20\n",
      "25\n",
      "30\n",
      "35\n",
      "40\n",
      "45\n",
      "50\n",
      "55\n",
      "60\n",
      "65\n",
      "70\n",
      "75\n",
      "80\n",
      "85\n",
      "90\n",
      "95\n",
      "100\n",
      "105\n",
      "110\n"
     ]
    }
   ],
   "source": [
    "count = 0\n",
    "for value in itertools.count(10,5):\n",
    "    print(value)\n",
    "    count+= 1\n",
    "    \n",
    "    if count > 20:\n",
    "        break\n",
    "    "
   ]
  },
  {
   "cell_type": "code",
   "execution_count": 69,
   "metadata": {},
   "outputs": [
    {
     "name": "stdout",
     "output_type": "stream",
     "text": [
      "10\n",
      "20\n",
      "30\n",
      "40\n",
      "50\n",
      "10\n",
      "20\n",
      "30\n",
      "40\n",
      "50\n",
      "10\n",
      "20\n",
      "30\n",
      "40\n",
      "50\n",
      "10\n",
      "20\n",
      "30\n",
      "40\n",
      "50\n"
     ]
    }
   ],
   "source": [
    "l = [10,20,30,40,50]\n",
    "count = 0\n",
    "for value in itertools.cycle(\"Python\"):\n",
    "    count +=1\n",
    "    if count > 20:\n",
    "        break\n",
    "    else:\n",
    "        print(value)"
   ]
  },
  {
   "cell_type": "code",
   "execution_count": 71,
   "metadata": {},
   "outputs": [
    {
     "name": "stdout",
     "output_type": "stream",
     "text": [
      "Python\n",
      "Python\n",
      "Python\n",
      "Python\n",
      "Python\n",
      "Python\n",
      "Python\n",
      "Python\n",
      "Python\n",
      "Python\n",
      "Python\n",
      "Python\n",
      "Python\n",
      "Python\n",
      "Python\n",
      "Python\n",
      "Python\n",
      "Python\n",
      "Python\n",
      "Python\n"
     ]
    }
   ],
   "source": [
    "l = [10,20,30,40,50]\n",
    "count = 0\n",
    "for value in itertools.repeat(\"Python\"):\n",
    "    count +=1\n",
    "    if count > 20:\n",
    "        break\n",
    "    else:\n",
    "        print(value)"
   ]
  },
  {
   "cell_type": "code",
   "execution_count": 72,
   "metadata": {},
   "outputs": [
    {
     "name": "stdout",
     "output_type": "stream",
     "text": [
      "30\n",
      "40\n",
      "50\n",
      "100\n",
      "200\n",
      "300\n"
     ]
    }
   ],
   "source": [
    "l1 = [10,20,30,40,50]\n",
    "l2 = [100,200,300,400,500,600]\n",
    "l3 = [1,2,3,4,5]\n",
    "\n",
    "i = itertools.chain(l1,l2,l3)\n",
    "for value in itertools.islice(i,2,8):\n",
    "    print(value)"
   ]
  },
  {
   "cell_type": "code",
   "execution_count": null,
   "metadata": {},
   "outputs": [],
   "source": []
  },
  {
   "cell_type": "code",
   "execution_count": null,
   "metadata": {},
   "outputs": [],
   "source": [
    "Genarators: \n",
    "    func iterators "
   ]
  },
  {
   "cell_type": "code",
   "execution_count": null,
   "metadata": {},
   "outputs": [],
   "source": [
    "def func():\n",
    "    \n",
    "\n",
    "func()"
   ]
  },
  {
   "cell_type": "code",
   "execution_count": 80,
   "metadata": {
    "scrolled": true
   },
   "outputs": [
    {
     "name": "stdout",
     "output_type": "stream",
     "text": [
      "<generator object fibo at 0x000001EA5275AA40>\n",
      "0\n",
      "1\n",
      "1\n",
      "2\n",
      "3\n",
      "5\n",
      "8\n",
      "13\n",
      "0\n",
      "21\n",
      "34\n",
      "55\n",
      "89\n",
      "144\n",
      "233\n",
      "377\n",
      "610\n",
      "987\n",
      "1597\n",
      "2584\n",
      "4181\n",
      "6765\n",
      "10946\n",
      "17711\n",
      "28657\n",
      "46368\n",
      "75025\n",
      "121393\n",
      "196418\n"
     ]
    }
   ],
   "source": [
    "def fibo():\n",
    "    num1 = 0\n",
    "    yield num1\n",
    "    num2 = 1  \n",
    "    yield num2\n",
    "    while(True):\n",
    "        next_num = num1 + num2\n",
    "        yield next_num\n",
    "        num1 ,num2 = num2, next_num\n",
    "        \n",
    "g = fibo()\n",
    "print(g)\n",
    "print(next(g))\n",
    "print(next(g))\n",
    "print(next(g))\n",
    "\n",
    "for value in range(5):\n",
    "    print(next(g))\n",
    "    \n",
    "f = fibo()\n",
    "print(next(f))\n",
    "\n",
    "count = 0\n",
    "for value in g:\n",
    "    count +=1\n",
    "    if count > 20:\n",
    "        break\n",
    "    else:\n",
    "        print(value)"
   ]
  },
  {
   "cell_type": "code",
   "execution_count": null,
   "metadata": {},
   "outputs": [],
   "source": []
  },
  {
   "cell_type": "code",
   "execution_count": null,
   "metadata": {},
   "outputs": [],
   "source": [
    "1,1,2,3,5,8...."
   ]
  },
  {
   "cell_type": "code",
   "execution_count": 84,
   "metadata": {},
   "outputs": [
    {
     "name": "stdout",
     "output_type": "stream",
     "text": [
      "0\n",
      "1\n"
     ]
    },
    {
     "ename": "StopIteration",
     "evalue": "True",
     "output_type": "error",
     "traceback": [
      "\u001b[1;31m---------------------------------------------------------------------------\u001b[0m",
      "\u001b[1;31mStopIteration\u001b[0m                             Traceback (most recent call last)",
      "\u001b[1;32m<ipython-input-84-023878c647e2>\u001b[0m in \u001b[0;36m<module>\u001b[1;34m()\u001b[0m\n\u001b[0;32m     13\u001b[0m \u001b[0mprint\u001b[0m\u001b[1;33m(\u001b[0m\u001b[0mnext\u001b[0m\u001b[1;33m(\u001b[0m\u001b[0mg\u001b[0m\u001b[1;33m)\u001b[0m\u001b[1;33m)\u001b[0m\u001b[1;33m\u001b[0m\u001b[0m\n\u001b[0;32m     14\u001b[0m \u001b[0mprint\u001b[0m\u001b[1;33m(\u001b[0m\u001b[0mnext\u001b[0m\u001b[1;33m(\u001b[0m\u001b[0mg\u001b[0m\u001b[1;33m)\u001b[0m\u001b[1;33m)\u001b[0m\u001b[1;33m\u001b[0m\u001b[0m\n\u001b[1;32m---> 15\u001b[1;33m \u001b[0mprint\u001b[0m\u001b[1;33m(\u001b[0m\u001b[0mnext\u001b[0m\u001b[1;33m(\u001b[0m\u001b[0mg\u001b[0m\u001b[1;33m)\u001b[0m\u001b[1;33m)\u001b[0m\u001b[1;33m\u001b[0m\u001b[0m\n\u001b[0m",
      "\u001b[1;31mStopIteration\u001b[0m: True"
     ]
    }
   ],
   "source": [
    "def fibo():\n",
    "    num1 = 0\n",
    "    yield num1\n",
    "    num2 = 1  \n",
    "    yield num2\n",
    "    return True\n",
    "    while(True):\n",
    "        next_num = num1 + num2\n",
    "        yield next_num\n",
    "        num1 ,num2 = num2, next_num\n",
    "        \n",
    "g = fibo()\n",
    "print(next(g))\n",
    "print(next(g))\n",
    "print(next(g))"
   ]
  },
  {
   "cell_type": "code",
   "execution_count": 88,
   "metadata": {},
   "outputs": [
    {
     "name": "stdout",
     "output_type": "stream",
     "text": [
      "10\n",
      "20\n",
      "30\n",
      "40\n",
      "50\n"
     ]
    }
   ],
   "source": [
    "def printVal(l):\n",
    "    for value in l:\n",
    "        yield value\n",
    "        \n",
    "l = [10,20,30,40,50]\n",
    "g = printVal(l)\n",
    "try:\n",
    "    print(next(g))\n",
    "    print(next(g))\n",
    "    print(next(g))\n",
    "    print(next(g))\n",
    "    print(next(g))\n",
    "    print(next(g))\n",
    "except StopIteration:\n",
    "    pass"
   ]
  },
  {
   "cell_type": "code",
   "execution_count": null,
   "metadata": {},
   "outputs": [],
   "source": [
    "oop \n",
    "exception \n",
    "map \n",
    "filter \n",
    "lambda \n",
    "generator\n",
    "itertools and iterator \n",
    "\n",
    "decorators\n",
    "thraeding \n",
    "socket \n",
    "db sccess \n",
    "sys os pdb \n",
    "packaging "
   ]
  }
 ],
 "metadata": {
  "kernelspec": {
   "display_name": "Python 3",
   "language": "python",
   "name": "python3"
  },
  "language_info": {
   "codemirror_mode": {
    "name": "ipython",
    "version": 3
   },
   "file_extension": ".py",
   "mimetype": "text/x-python",
   "name": "python",
   "nbconvert_exporter": "python",
   "pygments_lexer": "ipython3",
   "version": "3.6.5"
  }
 },
 "nbformat": 4,
 "nbformat_minor": 2
}
