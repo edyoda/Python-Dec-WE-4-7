{
 "cells": [
  {
   "cell_type": "code",
   "execution_count": null,
   "metadata": {},
   "outputs": [],
   "source": [
    "List :\n",
    "    Add:\n",
    "        append \n",
    "        extend \n",
    "        insert \n",
    "    Update :\n",
    "        l[index] = new_value        \n",
    "    Delete:\n",
    "        pop => index\n",
    "        remove => value\n",
    "        clear \n",
    "        del \n",
    "        \n",
    "Dict :\n",
    "    Add:\n",
    "        d['age'] = value \n",
    "        d.setdefault(key,value)\n",
    "        \n",
    "    Update :\n",
    "        d['key'] = new_value\n",
    "        \n",
    "    Delete:\n",
    "        pop\n",
    "        popitem \n",
    "        clear \n",
    "        del "
   ]
  },
  {
   "cell_type": "code",
   "execution_count": 5,
   "metadata": {},
   "outputs": [
    {
     "name": "stdout",
     "output_type": "stream",
     "text": [
      "{'ABC': 4.0, 'XYZ': 3.0, 'RST': 2.6}\n"
     ]
    }
   ],
   "source": [
    "d = {\"ABC\":\"5,4,4,4,3\",\"XYZ\":\"2,2,3,4,4\",\"RST\":\"3,3,3,2,2\"}\n",
    "d2= {}\n",
    "for key,value in d.items():\n",
    "    reviews = value.split(\",\")\n",
    "    sum = 0 \n",
    "    for review in reviews:\n",
    "        sum = sum + int(review)\n",
    "    d2[key] = sum / len(review)\n",
    "print(d2)\n"
   ]
  },
  {
   "cell_type": "code",
   "execution_count": 8,
   "metadata": {},
   "outputs": [
    {
     "name": "stdout",
     "output_type": "stream",
     "text": [
      "{'ML engineer': ['Python', 'Numpy', 'Pandas', 'scikit learn'], 'Test Automation': ['Python', 'selenium']}\n"
     ]
    }
   ],
   "source": [
    "d = {\"Java Web Developer\":[\"Java\",\"Spring\",\"JSP\",\"SQL\"],\"ML engineer\":[\"Python\",\"Numpy\",\"Pandas\",\"scikit learn\"],\"Test Automation\":[\"Python\",\"selenium\"]}\n",
    "d2 = {}\n",
    "\n",
    "for key,value in d.items():\n",
    "    if \"Python\" in value :\n",
    "#         d2[key] = value\n",
    "        d2.setdefault(key,value)\n",
    "print(d2)"
   ]
  },
  {
   "cell_type": "code",
   "execution_count": 9,
   "metadata": {},
   "outputs": [
    {
     "name": "stdout",
     "output_type": "stream",
     "text": [
      "{1: 1, 2: 4, 3: 9, 4: 16, 5: 25, 6: 36}\n"
     ]
    }
   ],
   "source": [
    "d = {\"A\":{1:1,2:4,3:9},\"B\":{4:16,5:25,6:36}}\n",
    "\n",
    "d2 = {}\n",
    "for key,value in d.items():\n",
    "    d2.update(value)\n",
    "print(d2)"
   ]
  },
  {
   "cell_type": "code",
   "execution_count": 15,
   "metadata": {},
   "outputs": [
    {
     "name": "stdout",
     "output_type": "stream",
     "text": [
      "z 7\n"
     ]
    }
   ],
   "source": [
    "s = \"abcdaaaccczzzzzzztrteret\"\n",
    "max_char =\"\"\n",
    "max_count = 0\n",
    "l = []\n",
    "for value in s:    \n",
    "    if value not in l:\n",
    "        l.append(value)\n",
    "        if s.count(value) > max_count :\n",
    "            max_char = value\n",
    "            max_count = s.count(value)\n",
    "print(max_char,max_count)\n",
    "        "
   ]
  },
  {
   "cell_type": "markdown",
   "metadata": {},
   "source": [
    "### Set :\n",
    "- {10,20,30,40,50,60}\n",
    "- {10:None,20:None,30:None,40:None}\n",
    "- all the elemnts in set should be unique \n",
    "- all the elemnts should be immutable = int,str,float,tuple \n",
    "- unordered => no indexing and slicing \n",
    "- mutable "
   ]
  },
  {
   "cell_type": "code",
   "execution_count": null,
   "metadata": {},
   "outputs": [],
   "source": [
    "s1 = {10,20,30,40,50}\n",
    "s2 = {40,50,60,70,80,90}\n",
    "\n",
    "s1 union s2 = {10,20,30,40,50,60,70,80,90}\n",
    "s2 union s1 = same \n",
    "\n",
    "s1 intersection s2 = {40,50}\n",
    "s2 intersection s1 = same\n",
    "\n",
    "\n",
    "s1 difference s2 = {10,20,30}\n",
    "s2 difference s1 = {60,70,80,90}\n",
    "\n",
    "s1 symmetric differnce s2 = {10,20,30,60,70,80,90}\n",
    "\n",
    "s3 = {10,20}\n",
    "\n",
    "s3 is subset of s1 \n",
    "s1 is superset of s3\n",
    "\n",
    "\n"
   ]
  },
  {
   "cell_type": "code",
   "execution_count": 17,
   "metadata": {},
   "outputs": [
    {
     "name": "stdout",
     "output_type": "stream",
     "text": [
      "<class 'set'>\n"
     ]
    }
   ],
   "source": [
    "s1 = set()\n",
    "print(type(s1))"
   ]
  },
  {
   "cell_type": "code",
   "execution_count": 19,
   "metadata": {},
   "outputs": [
    {
     "name": "stdout",
     "output_type": "stream",
     "text": [
      "[40, 41, 10, 78, 50, 20, 30]\n"
     ]
    }
   ],
   "source": [
    "l = [10,10,20,30,40,50,78,41,10]\n",
    "s = set(l)\n",
    "l2 = list(s)\n",
    "print(l2)"
   ]
  },
  {
   "cell_type": "code",
   "execution_count": 21,
   "metadata": {},
   "outputs": [
    {
     "name": "stdout",
     "output_type": "stream",
     "text": [
      "{40, 10, 20, 30}\n",
      "{40, 10, 50, 20, 30}\n"
     ]
    }
   ],
   "source": [
    "s = {10,20,30,40,10,20,30}\n",
    "print(s)\n",
    "s.add(50)\n",
    "print(s)"
   ]
  },
  {
   "cell_type": "code",
   "execution_count": 27,
   "metadata": {},
   "outputs": [
    {
     "name": "stdout",
     "output_type": "stream",
     "text": [
      "{70, 40, 10, 80, 50, 20, 60, 30}\n",
      "{80, 20, 70, 10, 60, 30}\n"
     ]
    }
   ],
   "source": [
    "s1 = {10,20,30,40,50}\n",
    "s2 = {40,50,60,70,80}\n",
    "\n",
    "# s3 =  s1.union(s2)\n",
    "# print(s3)\n",
    "\n",
    "# s4 = s1.intersection(s2)\n",
    "# print(s4)\n",
    "\n",
    "# s5 = s1.difference(s2)\n",
    "# print(s5)\n",
    "\n",
    "# s5 = s2.difference(s1)\n",
    "# print(s5)\n",
    "\n",
    "# s6 = s1.symmetric_difference(s2)\n",
    "# print(s6)\n"
   ]
  },
  {
   "cell_type": "code",
   "execution_count": 28,
   "metadata": {},
   "outputs": [
    {
     "name": "stdout",
     "output_type": "stream",
     "text": [
      "{70, 40, 10, 80, 50, 20, 60, 30}\n"
     ]
    }
   ],
   "source": [
    "s1 = {10,20,30,40,50}\n",
    "s2 = {40,50,60,70,80}\n",
    "\n",
    "s1.update(s2)\n",
    "print(s1)\n",
    "\n"
   ]
  },
  {
   "cell_type": "code",
   "execution_count": 29,
   "metadata": {},
   "outputs": [
    {
     "name": "stdout",
     "output_type": "stream",
     "text": [
      "{40, 50}\n"
     ]
    }
   ],
   "source": [
    "s1 = {10,20,30,40,50}\n",
    "s2 = {40,50,60,70,80}\n",
    "\n",
    "s1.intersection_update(s2)\n",
    "print(s1)"
   ]
  },
  {
   "cell_type": "code",
   "execution_count": 31,
   "metadata": {},
   "outputs": [
    {
     "name": "stdout",
     "output_type": "stream",
     "text": [
      "{70, 10, 80, 20, 60, 30}\n"
     ]
    }
   ],
   "source": [
    "s1 = {10,20,30,40,50}\n",
    "s2 = {40,50,60,70,80}\n",
    "\n",
    "s1.symmetric_difference_update(s2)\n",
    "print(s1)"
   ]
  },
  {
   "cell_type": "code",
   "execution_count": 34,
   "metadata": {},
   "outputs": [
    {
     "name": "stdout",
     "output_type": "stream",
     "text": [
      "{200, 74, 10, 78, 20, 25, 32, 100, 41, 300, 45, 44, 55}\n",
      "[10, 20, 25, 32, 41, 44, 45, 55, 74, 78, 100, 200, 300]\n"
     ]
    }
   ],
   "source": [
    "# l1 = [10,20,25,45,74,32,10,45]\n",
    "# l2 = [100,200,300,44,55,78,41,10,20,25]\n",
    "# # l3 = []\n",
    "# # single , unique , sorted \n",
    "\n",
    "# s1 = set(l1)\n",
    "# s2 = set(l2)\n",
    "\n",
    "# s3 = s1.union(s2)\n",
    "# print(s3)\n",
    "\n",
    "# l3 = sorted(s3)\n",
    "# print(l3)\n"
   ]
  },
  {
   "cell_type": "code",
   "execution_count": null,
   "metadata": {},
   "outputs": [],
   "source": [
    "delete:\n",
    "    pop\n",
    "    remove \n",
    "    discrad \n",
    "    del\n",
    "    clear \n",
    "    "
   ]
  },
  {
   "cell_type": "code",
   "execution_count": 47,
   "metadata": {},
   "outputs": [
    {
     "name": "stdout",
     "output_type": "stream",
     "text": [
      "{10, 50, 20, 60, 30} 40\n",
      "{10, 50, 20, 60}\n",
      "{10, 50, 20, 60}\n",
      "set()\n"
     ]
    },
    {
     "ename": "NameError",
     "evalue": "name 's' is not defined",
     "output_type": "error",
     "traceback": [
      "\u001b[1;31m---------------------------------------------------------------------------\u001b[0m",
      "\u001b[1;31mNameError\u001b[0m                                 Traceback (most recent call last)",
      "\u001b[1;32m<ipython-input-47-b3c171612029>\u001b[0m in \u001b[0;36m<module>\u001b[1;34m()\u001b[0m\n\u001b[0;32m     13\u001b[0m \u001b[1;33m\u001b[0m\u001b[0m\n\u001b[0;32m     14\u001b[0m \u001b[1;32mdel\u001b[0m \u001b[0ms\u001b[0m\u001b[1;33m\u001b[0m\u001b[0m\n\u001b[1;32m---> 15\u001b[1;33m \u001b[0mprint\u001b[0m\u001b[1;33m(\u001b[0m\u001b[0ms\u001b[0m\u001b[1;33m)\u001b[0m\u001b[1;33m\u001b[0m\u001b[0m\n\u001b[0m",
      "\u001b[1;31mNameError\u001b[0m: name 's' is not defined"
     ]
    }
   ],
   "source": [
    "s = {10,20,30,40,50,60}\n",
    "r = s.pop()\n",
    "print(s,r)\n",
    "\n",
    "s.remove(30)\n",
    "print(s)\n",
    "\n",
    "s.discard(200)\n",
    "print(s)\n",
    "\n",
    "s.clear()\n",
    "print(s)\n",
    "\n",
    "del s\n",
    "print(s)"
   ]
  },
  {
   "cell_type": "code",
   "execution_count": null,
   "metadata": {},
   "outputs": [],
   "source": [
    "union=> s3  => update=> s1 \n",
    "intersection  => in_update  s1  \n",
    "difference  => diff_update\n",
    "symmetric difference  => symm_update \n",
    "\n",
    "l1 \n",
    "l2 \n",
    "l3 \n",
    "l5\n",
    "\n",
    "s6 = {}"
   ]
  },
  {
   "cell_type": "code",
   "execution_count": 59,
   "metadata": {},
   "outputs": [
    {
     "name": "stdout",
     "output_type": "stream",
     "text": [
      "0.15886489020211048\n"
     ]
    }
   ],
   "source": [
    "import random\n",
    "print(random.random())"
   ]
  },
  {
   "cell_type": "code",
   "execution_count": 68,
   "metadata": {},
   "outputs": [
    {
     "name": "stdout",
     "output_type": "stream",
     "text": [
      "2\n"
     ]
    }
   ],
   "source": [
    "l = [1,2,3,4,5,6]\n",
    "print(random.choice(l))"
   ]
  },
  {
   "cell_type": "code",
   "execution_count": 105,
   "metadata": {},
   "outputs": [
    {
     "name": "stdout",
     "output_type": "stream",
     "text": [
      "1\n",
      "1\n",
      "44.60602101684299\n"
     ]
    }
   ],
   "source": [
    "print(random.randint(1,5))\n",
    "print(random.randrange(1,5))\n",
    "print(random.uniform(10,50))"
   ]
  },
  {
   "cell_type": "code",
   "execution_count": null,
   "metadata": {},
   "outputs": [],
   "source": [
    "8  char long default password \n",
    "1 upper case \n",
    "1 lower \n",
    "1 special char  \n",
    "5 digits "
   ]
  },
  {
   "cell_type": "code",
   "execution_count": 110,
   "metadata": {},
   "outputs": [
    {
     "name": "stdout",
     "output_type": "stream",
     "text": [
      "47819\n"
     ]
    }
   ],
   "source": [
    "print(random.randint(10000,99999))"
   ]
  },
  {
   "cell_type": "code",
   "execution_count": 113,
   "metadata": {},
   "outputs": [
    {
     "name": "stdout",
     "output_type": "stream",
     "text": [
      "97\n",
      "a\n"
     ]
    }
   ],
   "source": [
    "print(ord('a'))\n",
    "print(chr(97))"
   ]
  },
  {
   "cell_type": "code",
   "execution_count": 114,
   "metadata": {},
   "outputs": [
    {
     "name": "stdout",
     "output_type": "stream",
     "text": [
      "A\n"
     ]
    }
   ],
   "source": [
    "s = \"a\"\n",
    "s = s.upper()\n",
    "print(s)"
   ]
  },
  {
   "cell_type": "code",
   "execution_count": 181,
   "metadata": {},
   "outputs": [
    {
     "name": "stdout",
     "output_type": "stream",
     "text": [
      "5T207g2#\n"
     ]
    }
   ],
   "source": [
    "upper =  chr(random.randint(ord('A'),ord('Z')))\n",
    "lower =  chr(random.randint(ord('a'),ord('z')))\n",
    "l = ['!','@','#','$','&']\n",
    "special = random.choice(l)\n",
    "digits = str(random.randint(10000,99999))\n",
    "p = upper+lower+special+digits\n",
    "\n",
    "l = random.sample(p,8)\n",
    "password = (\"\").join(l)\n",
    "print(password)"
   ]
  },
  {
   "cell_type": "code",
   "execution_count": 183,
   "metadata": {},
   "outputs": [
    {
     "name": "stdout",
     "output_type": "stream",
     "text": [
      "E:\\sessions Code\\Dec-WE-4-7\n"
     ]
    }
   ],
   "source": [
    "import os\n",
    "print(os.getcwd())"
   ]
  }
 ],
 "metadata": {
  "kernelspec": {
   "display_name": "Python 3",
   "language": "python",
   "name": "python3"
  },
  "language_info": {
   "codemirror_mode": {
    "name": "ipython",
    "version": 3
   },
   "file_extension": ".py",
   "mimetype": "text/x-python",
   "name": "python",
   "nbconvert_exporter": "python",
   "pygments_lexer": "ipython3",
   "version": "3.6.5"
  }
 },
 "nbformat": 4,
 "nbformat_minor": 2
}
