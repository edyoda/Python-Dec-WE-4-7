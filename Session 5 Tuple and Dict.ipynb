{
 "cells": [
  {
   "cell_type": "code",
   "execution_count": null,
   "metadata": {},
   "outputs": [],
   "source": [
    "list :\n",
    "    append \n",
    "    extend \n",
    "    insert \n",
    "Update :\n",
    "    l[index] = new value \n",
    "    \n",
    "Delete :\n",
    "    pop => index, default remove last elemnt  \n",
    "    remove => value \n",
    "    clear \n",
    "    del \n",
    "    "
   ]
  },
  {
   "cell_type": "code",
   "execution_count": null,
   "metadata": {},
   "outputs": [],
   "source": [
    "Tuple :\n",
    "    - Immutable - no methods to add update and delete \n",
    "    - ordered - indexing and slicing "
   ]
  },
  {
   "cell_type": "code",
   "execution_count": 5,
   "metadata": {},
   "outputs": [
    {
     "name": "stdout",
     "output_type": "stream",
     "text": [
      "<class 'int'>\n"
     ]
    }
   ],
   "source": [
    "t = (10,20,30)\n",
    "print(type(t))"
   ]
  },
  {
   "cell_type": "code",
   "execution_count": 6,
   "metadata": {},
   "outputs": [
    {
     "name": "stdout",
     "output_type": "stream",
     "text": [
      "['__add__', '__class__', '__contains__', '__delattr__', '__dir__', '__doc__', '__eq__', '__format__', '__ge__', '__getattribute__', '__getitem__', '__getnewargs__', '__gt__', '__hash__', '__init__', '__init_subclass__', '__iter__', '__le__', '__len__', '__lt__', '__mul__', '__ne__', '__new__', '__reduce__', '__reduce_ex__', '__repr__', '__rmul__', '__setattr__', '__sizeof__', '__str__', '__subclasshook__', 'count', 'index']\n"
     ]
    }
   ],
   "source": [
    "print(dir(tuple))"
   ]
  },
  {
   "cell_type": "code",
   "execution_count": 10,
   "metadata": {},
   "outputs": [
    {
     "name": "stdout",
     "output_type": "stream",
     "text": [
      "3\n",
      "1\n"
     ]
    }
   ],
   "source": [
    "t = (10,20,30,10,20,30,40,50,10)\n",
    "print(t.count(10))\n",
    "print(t.index(20))"
   ]
  },
  {
   "cell_type": "code",
   "execution_count": 17,
   "metadata": {},
   "outputs": [
    {
     "name": "stdout",
     "output_type": "stream",
     "text": [
      "10\n",
      "10\n",
      "(30, 10, 20, 30, 40, 50, 10)\n",
      "(30, 20, 10)\n"
     ]
    }
   ],
   "source": [
    "t = (10,20,30,10,20,30,40,50,10)\n",
    "print(t[0])\n",
    "print(t[-1])\n",
    "\n",
    "print(t[2:])\n",
    "print(t[2::-1])\n"
   ]
  },
  {
   "cell_type": "code",
   "execution_count": 20,
   "metadata": {},
   "outputs": [
    {
     "name": "stdout",
     "output_type": "stream",
     "text": [
      "(10, 20, 30, 40)\n"
     ]
    }
   ],
   "source": [
    "t = (10,20,30,40)\n",
    "l = list(t)\n",
    "t1 = tuple(l)\n",
    "print(t1)"
   ]
  },
  {
   "cell_type": "code",
   "execution_count": 42,
   "metadata": {},
   "outputs": [
    {
     "name": "stdout",
     "output_type": "stream",
     "text": [
      "0 10\n",
      "1 20\n",
      "2 30\n",
      "3 40\n",
      "4 50\n",
      "5 60\n"
     ]
    }
   ],
   "source": [
    "l = (10,20,30,40,50,60)\n",
    "\n",
    "for t in enumerate(l):\n",
    "    print(t[0],t[1])"
   ]
  },
  {
   "cell_type": "code",
   "execution_count": 28,
   "metadata": {},
   "outputs": [
    {
     "name": "stdout",
     "output_type": "stream",
     "text": [
      "10 20\n"
     ]
    }
   ],
   "source": [
    "x,y = (10,20)\n",
    "print(x,y)"
   ]
  },
  {
   "cell_type": "markdown",
   "metadata": {},
   "source": [
    "### Dict:\n",
    "> - mutable - add update and delete \n",
    "> - unordered - no indexing and slicing \n",
    "> - {\"username\":\"abc@123\",\"password\":\"abcd1233\"}\n",
    "> - all the keys should be unique\n",
    "> - all the keys should be immutable => tuple,int,float,str"
   ]
  },
  {
   "cell_type": "code",
   "execution_count": null,
   "metadata": {},
   "outputs": [],
   "source": [
    "key => hash(\"username\") => hash index = 5\n",
    "    hash(\"password\") => hash_index  = 4\n",
    "    \n",
    "hash table \n",
    "\n",
    "hash index key ref to value \n",
    "\n",
    "4          password   455555\n",
    "5          username   477777"
   ]
  },
  {
   "cell_type": "code",
   "execution_count": 71,
   "metadata": {},
   "outputs": [
    {
     "name": "stdout",
     "output_type": "stream",
     "text": [
      "{'name': 'abc', 'email': 'abc@gmail.com', 'contact': '9123465789', 'sal': 45000}\n",
      "{'name': 'abc', 'email': 'abc@gmail.com', 'contact': '9123465789', 'sal': 50000}\n"
     ]
    }
   ],
   "source": [
    "d = {\"name\":\"abc\",\"email\":\"abc@gmail.com\",\"contact\":\"9123465789\"}\n",
    "# print(d[\"name\"])\n",
    "# print(d.get(\"age\",-1))\n",
    "# print(d.setdefault(\"age\",25))\n",
    "# print(d)\n",
    "\n",
    "d['sal'] = 45000\n",
    "print(d)\n",
    "\n",
    "d['sal'] = 50000\n",
    "print(d)"
   ]
  },
  {
   "cell_type": "code",
   "execution_count": null,
   "metadata": {},
   "outputs": [],
   "source": [
    "d = {1:1,2:4,3:9...............15:225}\n"
   ]
  },
  {
   "cell_type": "code",
   "execution_count": null,
   "metadata": {},
   "outputs": [],
   "source": [
    "d = {'a':97,\"b\":98.......\"z\":122}\n",
    "ord('a') => 97\n",
    "chr(97) 'a'\n"
   ]
  },
  {
   "cell_type": "code",
   "execution_count": 72,
   "metadata": {},
   "outputs": [
    {
     "name": "stdout",
     "output_type": "stream",
     "text": [
      "{1: 1, 2: 4, 3: 9, 4: 16, 5: 25, 6: 36, 7: 49, 8: 64, 9: 81, 10: 100, 11: 121, 12: 144, 13: 169, 14: 196, 15: 225}\n"
     ]
    }
   ],
   "source": [
    "d = {}\n",
    "for key in range(1,16):\n",
    "#     d.setdefault(key,key * key)\n",
    "    d[key] = key * key\n",
    "print(d)"
   ]
  },
  {
   "cell_type": "code",
   "execution_count": 74,
   "metadata": {},
   "outputs": [
    {
     "name": "stdout",
     "output_type": "stream",
     "text": [
      "{'a': 97, 'b': 98, 'c': 99, 'd': 100, 'e': 101, 'f': 102, 'g': 103, 'h': 104, 'i': 105, 'j': 106, 'k': 107, 'l': 108, 'm': 109, 'n': 110, 'o': 111, 'p': 112, 'q': 113, 'r': 114, 's': 115, 't': 116, 'u': 117, 'v': 118, 'w': 119, 'x': 120, 'y': 121, 'z': 122}\n"
     ]
    }
   ],
   "source": [
    "d = {}\n",
    "for value in range(ord('a'),ord('z')+1):\n",
    "    d[chr(value)] = value\n",
    "print(d)"
   ]
  },
  {
   "cell_type": "code",
   "execution_count": 79,
   "metadata": {},
   "outputs": [
    {
     "name": "stdout",
     "output_type": "stream",
     "text": [
      "[(10, 10), (20, 20), (30, 30), (40, 40), (50, 50)]\n",
      "(10, 10)\n",
      "(20, 20)\n",
      "(30, 30)\n",
      "(40, 40)\n",
      "(50, 50)\n"
     ]
    }
   ],
   "source": [
    "l1 = [10,20,30,40,50]\n",
    "l2 = range(10,55,10)\n",
    "\n",
    "l3 = list(zip(l1,l2))\n",
    "print(l3)\n",
    "\n",
    "for x in zip(l1,l2):\n",
    "    print(x)"
   ]
  },
  {
   "cell_type": "code",
   "execution_count": null,
   "metadata": {},
   "outputs": [],
   "source": [
    "d = {(1,10):0,(11,20):0,(21,30):0.........(91,100):0}\n",
    "\n",
    "l = [10,11,25,1,45,85]\n",
    "\n",
    "d = {(1,10):2,(11,20):1,(21,30):1.........(91,100):0}\n",
    "\n",
    "zip \n",
    "range\n",
    "add and update dict operations "
   ]
  },
  {
   "cell_type": "code",
   "execution_count": 88,
   "metadata": {},
   "outputs": [
    {
     "name": "stdout",
     "output_type": "stream",
     "text": [
      "{(1, 10): 1, (11, 20): 0, (21, 30): 1, (31, 40): 0, (41, 50): 1, (51, 60): 2, (61, 70): 0, (71, 80): 1, (81, 90): 1, (91, 100): 0}\n"
     ]
    }
   ],
   "source": [
    "d = {}\n",
    "for key in zip(range(1,92,10),range(10,101,10)):\n",
    "    d.setdefault(key,0)\n",
    "\n",
    "l = [45,10,24,56,84,74,52]\n",
    "for num in l:\n",
    "    for key in d:\n",
    "        if num >= key[0] and num <= key[1]:\n",
    "            d[key]+=1\n",
    "print(d)"
   ]
  },
  {
   "cell_type": "code",
   "execution_count": 89,
   "metadata": {},
   "outputs": [
    {
     "name": "stdout",
     "output_type": "stream",
     "text": [
      "name\n",
      "email\n",
      "contact\n"
     ]
    }
   ],
   "source": [
    "d = {\"name\":\"abc\",\"email\":\"abc@gmail.com\",\"contact\":\"9123465789\"}\n",
    "for x in d:\n",
    "    print(x)"
   ]
  },
  {
   "cell_type": "code",
   "execution_count": 90,
   "metadata": {},
   "outputs": [
    {
     "name": "stdout",
     "output_type": "stream",
     "text": [
      "name abc\n",
      "email abc@gmail.com\n",
      "contact 9123465789\n"
     ]
    }
   ],
   "source": [
    "d = {\"name\":\"abc\",\"email\":\"abc@gmail.com\",\"contact\":\"9123465789\"}\n",
    "for key,value in d.items():\n",
    "    print(key,value)"
   ]
  },
  {
   "cell_type": "code",
   "execution_count": 92,
   "metadata": {},
   "outputs": [
    {
     "name": "stdout",
     "output_type": "stream",
     "text": [
      "abc\n",
      "abc@gmail.com\n",
      "9123465789\n"
     ]
    }
   ],
   "source": [
    "d = {\"name\":\"abc\",\"email\":\"abc@gmail.com\",\"contact\":\"9123465789\"}\n",
    "for value in d.values():\n",
    "    print(value)"
   ]
  },
  {
   "cell_type": "code",
   "execution_count": 93,
   "metadata": {},
   "outputs": [
    {
     "name": "stdout",
     "output_type": "stream",
     "text": [
      "eng\n",
      "maths\n",
      "hindi\n"
     ]
    }
   ],
   "source": [
    "d = {\"eng\":35,\"chem\":84,\"maths\":28,\"hindi\":35}\n",
    "passmarks = 40\n",
    "\n",
    "for key,value in d.items():\n",
    "    if value < passmarks:\n",
    "        print(key)"
   ]
  },
  {
   "cell_type": "code",
   "execution_count": 94,
   "metadata": {},
   "outputs": [
    {
     "name": "stdout",
     "output_type": "stream",
     "text": [
      "210\n"
     ]
    }
   ],
   "source": [
    "count = 1 \n",
    "sum = 0\n",
    "while count <=20:\n",
    "    sum = sum + count\n",
    "    count+=1\n",
    "print(sum)\n",
    "    \n"
   ]
  },
  {
   "cell_type": "code",
   "execution_count": null,
   "metadata": {},
   "outputs": [],
   "source": [
    "delete :\n",
    "    popitem => 3.7 del last key and value pair => key, value\n",
    "    pop => specific key and value pair => value\n",
    "    clear \n",
    "    del"
   ]
  },
  {
   "cell_type": "code",
   "execution_count": 107,
   "metadata": {},
   "outputs": [
    {
     "name": "stdout",
     "output_type": "stream",
     "text": [
      "{'chem': 84, 'maths': 28, 'hindi': 35}\n",
      "35\n",
      "{}\n"
     ]
    },
    {
     "ename": "NameError",
     "evalue": "name 'd' is not defined",
     "output_type": "error",
     "traceback": [
      "\u001b[1;31m---------------------------------------------------------------------------\u001b[0m",
      "\u001b[1;31mNameError\u001b[0m                                 Traceback (most recent call last)",
      "\u001b[1;32m<ipython-input-107-0b72d9188fe5>\u001b[0m in \u001b[0;36m<module>\u001b[1;34m()\u001b[0m\n\u001b[0;32m     10\u001b[0m \u001b[0mprint\u001b[0m\u001b[1;33m(\u001b[0m\u001b[0md\u001b[0m\u001b[1;33m)\u001b[0m\u001b[1;33m\u001b[0m\u001b[0m\n\u001b[0;32m     11\u001b[0m \u001b[1;32mdel\u001b[0m \u001b[0md\u001b[0m\u001b[1;33m\u001b[0m\u001b[0m\n\u001b[1;32m---> 12\u001b[1;33m \u001b[0mprint\u001b[0m\u001b[1;33m(\u001b[0m\u001b[0md\u001b[0m\u001b[1;33m)\u001b[0m\u001b[1;33m\u001b[0m\u001b[0m\n\u001b[0m",
      "\u001b[1;31mNameError\u001b[0m: name 'd' is not defined"
     ]
    }
   ],
   "source": [
    "d = {\"eng\":35,\"chem\":84,\"maths\":28,\"hindi\":35}\n",
    "# r =  d.popitem()\n",
    "# print(d,r)\n",
    "\n",
    "r = d.pop(\"eng\")\n",
    "print(d)\n",
    "print(r)\n",
    "\n",
    "d.clear()\n",
    "print(d)\n",
    "del d\n",
    "print(d)"
   ]
  },
  {
   "cell_type": "code",
   "execution_count": 115,
   "metadata": {},
   "outputs": [
    {
     "name": "stdout",
     "output_type": "stream",
     "text": [
      "{}\n"
     ]
    }
   ],
   "source": [
    "l1 = (10,20,30,40,50)\n",
    "l2 = \"\"\n",
    "d = dict(zip(l1,l2))\n",
    "print(d)\n"
   ]
  },
  {
   "cell_type": "code",
   "execution_count": 116,
   "metadata": {},
   "outputs": [
    {
     "name": "stdout",
     "output_type": "stream",
     "text": [
      "{1: 20, 2: 20, 3: 20, 4: 20, 5: 20}\n"
     ]
    }
   ],
   "source": [
    "l = [1,2,3,4,5]\n",
    "d = dict.fromkeys(l,20)\n",
    "print(d)\n"
   ]
  },
  {
   "cell_type": "code",
   "execution_count": 127,
   "metadata": {},
   "outputs": [
    {
     "name": "stdout",
     "output_type": "stream",
     "text": [
      "dict_values([1, 4, 9])\n",
      "dict_values([16, 25, 36])\n"
     ]
    }
   ],
   "source": [
    "d1 = {1:1,2:4,3:9}\n",
    "d2 = {1:16,2:25,3:36}\n",
    "# d1.update(\n",
    "\n",
    "# l = list(zip(d1,d2))\n",
    "# print(l)\n",
    "print(d1.values())\n",
    "print(d2.values())\n"
   ]
  }
 ],
 "metadata": {
  "kernelspec": {
   "display_name": "Python 3",
   "language": "python",
   "name": "python3"
  },
  "language_info": {
   "codemirror_mode": {
    "name": "ipython",
    "version": 3
   },
   "file_extension": ".py",
   "mimetype": "text/x-python",
   "name": "python",
   "nbconvert_exporter": "python",
   "pygments_lexer": "ipython3",
   "version": "3.6.5"
  }
 },
 "nbformat": 4,
 "nbformat_minor": 2
}
