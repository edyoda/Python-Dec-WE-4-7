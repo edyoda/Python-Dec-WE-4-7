{
 "cells": [
  {
   "cell_type": "code",
   "execution_count": null,
   "metadata": {},
   "outputs": [],
   "source": [
    "pattern matching and data extraction \n",
    "pattern validation "
   ]
  },
  {
   "cell_type": "code",
   "execution_count": 1,
   "metadata": {},
   "outputs": [],
   "source": [
    "import re"
   ]
  },
  {
   "cell_type": "code",
   "execution_count": 2,
   "metadata": {},
   "outputs": [
    {
     "name": "stdout",
     "output_type": "stream",
     "text": [
      "['ab', 'ab', 'ab', 'ab']\n"
     ]
    }
   ],
   "source": [
    "s = \"ababdcabdaab\"\n",
    "r = re.compile(\"ab\")\n",
    "l = re.findall(r,s)\n",
    "print(l)"
   ]
  },
  {
   "cell_type": "code",
   "execution_count": null,
   "metadata": {},
   "outputs": [],
   "source": [
    "Meta char :\n",
    "    . => match with all char \n",
    "    [a-zA-Z] => char class\n",
    "    [0-9] => digit class\n",
    "    + => atleast one occurance \n",
    "    * => zero or more\n",
    "    ^ => start of the string\n",
    "    $ => end of the string\n",
    "    [a-z]{5}"
   ]
  },
  {
   "cell_type": "code",
   "execution_count": 20,
   "metadata": {},
   "outputs": [
    {
     "name": "stdout",
     "output_type": "stream",
     "text": [
      "[]\n"
     ]
    }
   ],
   "source": [
    "s = \"abdssss1234\"\n",
    "r = re.compile(\"^[a-z]{2,5}[0-9]+$\")\n",
    "l = re.findall(r,s)\n",
    "print(l)"
   ]
  },
  {
   "cell_type": "code",
   "execution_count": 24,
   "metadata": {},
   "outputs": [
    {
     "name": "stdout",
     "output_type": "stream",
     "text": [
      "['ABCDE1234A']\n"
     ]
    }
   ],
   "source": [
    "s = \"ABCDE1234A\"\n",
    "# 5 char 4 digits 1 char \n",
    "r = re.compile(\"^[A-Z]{5}[0-9]{4}[A-Z]$\")\n",
    "l =  re.findall(r,s)\n",
    "print(l)"
   ]
  },
  {
   "cell_type": "code",
   "execution_count": 26,
   "metadata": {},
   "outputs": [
    {
     "name": "stdout",
     "output_type": "stream",
     "text": [
      "[]\n"
     ]
    }
   ],
   "source": [
    "s = \"0123456789\"\n",
    "r =  re.compile(\"^[6-9][0-9]{9}$\")\n",
    "l =  re.findall(r,s)\n",
    "print(l)\n",
    "\n",
    "\n"
   ]
  },
  {
   "cell_type": "code",
   "execution_count": 33,
   "metadata": {},
   "outputs": [
    {
     "name": "stdout",
     "output_type": "stream",
     "text": [
      "['PEP 563: Postponed Evaluation of Annotations', 'PEP 526:', 'PEP 538: Legacy C Locale Coercion', 'PEP 540: Forced UTF-8 Runtime Mode.', 'PEP 540: Forced UTF-8 Runtime Mode', 'PEP 540: Forced UTF-8 Runtime Mode).', 'PEP 553: Built-in breakpoint()', 'PEP 539: New C API for Thread-Local Storage', 'PEP 562: Customization of Access to Module Attributes', 'PEP 564: New Time Functions With Nanosecond Resolution', 'PEP 565: Show DeprecationWarning in __main__', 'PEP 560: Core Support for typing module and Generic Types', 'PEP 552: Hash-based .pyc Files', 'PEP 545: Python Documentation Translations']\n"
     ]
    }
   ],
   "source": [
    "fp = open(\"features.txt\",\"r\",encoding = \"utf-8\")\n",
    "content = fp.read()\n",
    "fp.close()\n",
    "\n",
    "r = re.compile(\"PEP [0-9]{3}:.*\")\n",
    "l =  re.findall(r,content)\n",
    "print(l)\n",
    "\n",
    "fp = open(\"list.txt\",\"w\")\n",
    "for line in  l:\n",
    "     fp.write(\"{} \\n\".format(line))\n",
    "fp.close()"
   ]
  },
  {
   "cell_type": "code",
   "execution_count": 47,
   "metadata": {},
   "outputs": [
    {
     "name": "stdout",
     "output_type": "stream",
     "text": [
      "05\n"
     ]
    }
   ],
   "source": [
    "s = \"35-05-2019\"\n",
    "# dd-mm-yyyy\n",
    "r = re.compile(\"^(\\d{2})-([0-9]{2})-([0-9]{4})$\")\n",
    "m = re.search(r,s)\n",
    "if m:\n",
    "    print(m.group(2))\n",
    "else:\n",
    "    print(\"Invalid date\")"
   ]
  },
  {
   "cell_type": "code",
   "execution_count": null,
   "metadata": {},
   "outputs": [],
   "source": [
    "[0-9] \\d\n",
    "[^0-9] \\D\n",
    "\n",
    "[a-zA-Z0-9] \\w\n",
    "[^a-zA-Z0-9] \\W\n",
    "\n",
    "space  \\s\n",
    "        \\S"
   ]
  },
  {
   "cell_type": "code",
   "execution_count": null,
   "metadata": {},
   "outputs": [],
   "source": [
    "1 valid email address \n",
    "2 valid url \n",
    "3 valid ip address 0.0.0.0 255.255.255.255"
   ]
  }
 ],
 "metadata": {
  "kernelspec": {
   "display_name": "Python 3",
   "language": "python",
   "name": "python3"
  },
  "language_info": {
   "codemirror_mode": {
    "name": "ipython",
    "version": 3
   },
   "file_extension": ".py",
   "mimetype": "text/x-python",
   "name": "python",
   "nbconvert_exporter": "python",
   "pygments_lexer": "ipython3",
   "version": "3.6.5"
  }
 },
 "nbformat": 4,
 "nbformat_minor": 2
}
