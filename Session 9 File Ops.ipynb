{
 "cells": [
  {
   "cell_type": "code",
   "execution_count": null,
   "metadata": {},
   "outputs": [],
   "source": [
    "Modes of opening :\n",
    "    1 read r \n",
    "    2 r+\n",
    "    3 write w\n",
    "    4 w+\n",
    "    5 append a \n",
    "    6 append a+"
   ]
  },
  {
   "cell_type": "code",
   "execution_count": null,
   "metadata": {},
   "outputs": [],
   "source": [
    "fp = open(\"test1.txt\",\"r\")\n",
    "fp.close()"
   ]
  },
  {
   "cell_type": "code",
   "execution_count": 3,
   "metadata": {},
   "outputs": [
    {
     "name": "stdout",
     "output_type": "stream",
     "text": [
      "PEP 563: Postponed Evaluation of Annotations\n",
      "The advent of type hints in Python uncovered two glaring usability issues with the functionality of annotations added in PEP 3107 and refined further in PEP 526:\n",
      "\n",
      "annotations could only use names which were already available in the current scope, in other words they didn’t support forward references of any kind; and\n",
      "annotating source code had adverse effects on startup time of Python programs.\n",
      "Both of these issues are fixed by postponing the evaluation of annotations. Instead of compiling code which executes expressions in annotations at their definition time, the compiler stores the annotation in a string form equivalent to the AST of the expression in question. If needed, annotations can be resolved at runtime using typing.get_type_hints(). In the common case where this is not required, the annotations are cheaper to store (since short strings are interned by the interpreter) and make startup time faster.\n",
      "\n",
      "Usability-wise, annotations now support forward references, making the following syntax valid:\n",
      "\n",
      "class C:\n",
      "    @classmethod\n",
      "    def from_string(cls, source: str) -> C:\n",
      "        ...\n",
      "\n",
      "    def validate_b(self, obj: B) -> bool:\n",
      "        ...\n",
      "\n",
      "class B:\n",
      "    ...\n",
      "Since this change breaks compatibility, the new behavior needs to be enabled on a per-module basis in Python 3.7 using a __future__ import:\n",
      "\n",
      "from __future__ import annotations\n",
      "It will become the default in Python 4.0.\n",
      "\n",
      "See also\n",
      "PEP 563 – Postponed evaluation of annotations\n",
      "PEP written and implemented by Łukasz Langa.\n",
      "PEP 538: Legacy C Locale Coercion\n",
      "An ongoing challenge within the Python 3 series has been determining a sensible default strategy for handling the “7-bit ASCII” text encoding assumption currently implied by the use of the default C or POSIX locale on non-Windows platforms.\n",
      "\n",
      "PEP 538 updates the default interpreter command line interface to automatically coerce that locale to an available UTF-8 based locale as described in the documentation of the new PYTHONCOERCECLOCALE environment variable. Automatically setting LC_CTYPE this way means that both the core interpreter and locale-aware C extensions (such as readline) will assume the use of UTF-8 as the default text encoding, rather than ASCII.\n",
      "\n",
      "The platform support definition in PEP 11 has also been updated to limit full text handling support to suitably configured non-ASCII based locales.\n",
      "\n",
      "As part of this change, the default error handler for stdin and stdout is now surrogateescape (rather than strict) when using any of the defined coercion target locales (currently C.UTF-8, C.utf8, and UTF-8). The default error handler for stderr continues to be backslashreplace, regardless of locale.\n",
      "\n",
      "Locale coercion is silent by default, but to assist in debugging potentially locale related integration problems, explicit warnings (emitted directly on stderr) can be requested by setting PYTHONCOERCECLOCALE=warn. This setting will also cause the Python runtime to emit a warning if the legacy C locale remains active when the core interpreter is initialized.\n",
      "\n",
      "While PEP 538’s locale coercion has the benefit of also affecting extension modules (such as GNU readline), as well as child processes (including those running non-Python applications and older versions of Python), it has the downside of requiring that a suitable target locale be present on the running system. To better handle the case where no suitable target locale is available (as occurs on RHEL/CentOS 7, for example), Python 3.7 also implements PEP 540: Forced UTF-8 Runtime Mode.\n",
      "---------------\n",
      "\n"
     ]
    }
   ],
   "source": [
    "fp = open(\"test1.txt\",\"r\",encoding=\"utf-8\")\n",
    "content = fp.read()\n",
    "print(content)\n",
    "print(\"---------------\")\n",
    "content = fp.read()\n",
    "print(content)\n",
    "fp.close()\n",
    "\n"
   ]
  },
  {
   "cell_type": "code",
   "execution_count": 5,
   "metadata": {},
   "outputs": [
    {
     "name": "stdout",
     "output_type": "stream",
     "text": [
      "PEP 563: Postponed Evaluation of Annotations\n",
      "The a\n",
      "dvent of type hints in Python uncovered two glarin\n"
     ]
    }
   ],
   "source": [
    "fp = open(\"test1.txt\",\"r\",encoding=\"utf-8\")\n",
    "content = fp.read(50)\n",
    "print(content)\n",
    "\n",
    "content = fp.read(50)\n",
    "print(content)\n",
    "\n",
    "fp.close()\n"
   ]
  },
  {
   "cell_type": "code",
   "execution_count": 7,
   "metadata": {},
   "outputs": [
    {
     "name": "stdout",
     "output_type": "stream",
     "text": [
      "PEP 563: Postponed Evaluation of Annotations\n",
      "\n",
      "The advent of type hints in Python uncovered two glaring usability issues with the functionality of annotations added in PEP 3107 and refined further in PEP 526:\n",
      "\n"
     ]
    }
   ],
   "source": [
    "fp = open(\"test1.txt\",\"r\",encoding=\"utf-8\")\n",
    "content = fp.readline()\n",
    "print(content)\n",
    "\n",
    "content = fp.readline()\n",
    "print(content)\n",
    "fp.close()"
   ]
  },
  {
   "cell_type": "code",
   "execution_count": 10,
   "metadata": {
    "scrolled": true
   },
   "outputs": [
    {
     "name": "stdout",
     "output_type": "stream",
     "text": [
      "39\n"
     ]
    }
   ],
   "source": [
    "fp = open(\"test1.txt\",\"r\",encoding=\"utf-8\")\n",
    "content = fp.readlines()\n",
    "print(len(content))\n",
    "\n",
    "fp.close()"
   ]
  },
  {
   "cell_type": "code",
   "execution_count": null,
   "metadata": {},
   "outputs": [],
   "source": [
    "read => read entire file as string\n",
    "read(50) => read 50 char \n",
    "readline  => one line at a time \n",
    "readlines => read entire file as list "
   ]
  },
  {
   "cell_type": "code",
   "execution_count": 15,
   "metadata": {},
   "outputs": [
    {
     "ename": "UnsupportedOperation",
     "evalue": "not readable",
     "output_type": "error",
     "traceback": [
      "\u001b[1;31m---------------------------------------------------------------------------\u001b[0m",
      "\u001b[1;31mUnsupportedOperation\u001b[0m                      Traceback (most recent call last)",
      "\u001b[1;32m<ipython-input-15-43e2003a00b2>\u001b[0m in \u001b[0;36m<module>\u001b[1;34m()\u001b[0m\n\u001b[0;32m      4\u001b[0m \u001b[0mfp\u001b[0m\u001b[1;33m.\u001b[0m\u001b[0mwrite\u001b[0m\u001b[1;33m(\u001b[0m\u001b[1;34m\"\\nWrite line3 to file\"\u001b[0m\u001b[1;33m)\u001b[0m\u001b[1;33m\u001b[0m\u001b[0m\n\u001b[0;32m      5\u001b[0m \u001b[1;33m\u001b[0m\u001b[0m\n\u001b[1;32m----> 6\u001b[1;33m \u001b[0mcontent\u001b[0m \u001b[1;33m=\u001b[0m \u001b[0mfp\u001b[0m\u001b[1;33m.\u001b[0m\u001b[0mread\u001b[0m\u001b[1;33m(\u001b[0m\u001b[1;33m)\u001b[0m\u001b[1;33m\u001b[0m\u001b[0m\n\u001b[0m\u001b[0;32m      7\u001b[0m \u001b[0mprint\u001b[0m\u001b[1;33m(\u001b[0m\u001b[0mcontent\u001b[0m\u001b[1;33m)\u001b[0m\u001b[1;33m\u001b[0m\u001b[0m\n\u001b[0;32m      8\u001b[0m \u001b[0mfp\u001b[0m\u001b[1;33m.\u001b[0m\u001b[0mclose\u001b[0m\u001b[1;33m(\u001b[0m\u001b[1;33m)\u001b[0m\u001b[1;33m\u001b[0m\u001b[0m\n",
      "\u001b[1;31mUnsupportedOperation\u001b[0m: not readable"
     ]
    }
   ],
   "source": [
    "fp = open(\"test2.txt\",\"w\")\n",
    "fp.write(\"Write line1 to file\")\n",
    "fp.write(\"\\nWrite line2 to file\")\n",
    "fp.write(\"\\nWrite line3 to file\")\n",
    "\n",
    "content = fp.read()\n",
    "print(content)\n",
    "fp.close()"
   ]
  },
  {
   "cell_type": "code",
   "execution_count": 19,
   "metadata": {
    "scrolled": true
   },
   "outputs": [
    {
     "name": "stdout",
     "output_type": "stream",
     "text": [
      "0\n",
      "61\n",
      "0\n",
      "Write line1 to file\n",
      "Write line2 to file\n",
      "Write line3 to file\n"
     ]
    }
   ],
   "source": [
    "fp = open(\"test2.txt\",\"w+\")\n",
    "print(fp.tell())\n",
    "fp.write(\"Write line1 to file\")\n",
    "fp.write(\"\\nWrite line2 to file\")\n",
    "fp.write(\"\\nWrite line3 to file\")\n",
    "\n",
    "print(fp.tell())\n",
    "fp.seek(0,0)\n",
    "print(fp.tell())\n",
    "\n",
    "content = fp.read()\n",
    "print(content)\n",
    "fp.close()"
   ]
  },
  {
   "cell_type": "code",
   "execution_count": 22,
   "metadata": {},
   "outputs": [],
   "source": [
    "fp = open(\"test2.txt\",\"r+\")\n",
    "\n",
    "fp.write(\"Write line6 to file\")\n",
    "fp.close()"
   ]
  },
  {
   "cell_type": "code",
   "execution_count": null,
   "metadata": {},
   "outputs": [],
   "source": [
    "tell()\n",
    "seek(offset,position)\n",
    "\n",
    "0 => start of the file \n",
    "1 => current position \n",
    "2 => end of the file \n",
    "\n",
    "seek(15,0)\n",
    "seek(0,2) => end of the file \n",
    "seek(0,0) => start of the file "
   ]
  },
  {
   "cell_type": "code",
   "execution_count": 27,
   "metadata": {},
   "outputs": [
    {
     "name": "stdout",
     "output_type": "stream",
     "text": [
      "146\n",
      "Write line6 to file\n",
      "Write line2 to file\n",
      "Write line3 to file\n",
      "Write line4 to file\n",
      "Write line 7 to file\n",
      "Write line7 to file\n",
      "Write line7 to file\n",
      "Write line7 to file\n"
     ]
    }
   ],
   "source": [
    "fp = open(\"test2.txt\",\"a+\")\n",
    "print(fp.tell())\n",
    "fp.write(\"\\nWrite line7 to file\")\n",
    "fp.seek(0,0)\n",
    "content = fp.read()\n",
    "print(content)\n",
    "fp.close()"
   ]
  },
  {
   "cell_type": "code",
   "execution_count": null,
   "metadata": {},
   "outputs": [],
   "source": [
    "r : fp=>0 , file not exist => error, read\n",
    "r+ : fp=> 0,file not exist => error, read + write\n",
    "\n",
    "w : fp=> 0, create new file, write\n",
    "w+ : fp=>0, crrate new file , write+read \n",
    "\n",
    "a: fp=> EOF,create new file, write at the end \n",
    "a+: fp=> EOF, create new file , write + read \n",
    "    \n",
    "seek(offset,position)\n",
    "0 : start of the file \n",
    "1 : current position\n",
    "2 : end of the file \n",
    "    \n",
    "tell : get current fp position "
   ]
  },
  {
   "cell_type": "code",
   "execution_count": null,
   "metadata": {},
   "outputs": [],
   "source": [
    "input.txt\n",
    "ABC,abc@gmail.com,9123456789\n",
    "PQR,pqr@gmail.com,9123456789\n",
    "RST,rst@gmail.com,9123456789\n",
    "ASE,ase@gmail.com,9123456789"
   ]
  },
  {
   "cell_type": "code",
   "execution_count": null,
   "metadata": {},
   "outputs": [],
   "source": [
    "output:\n",
    "AbC,9123456789\n",
    "PQR,9123456789"
   ]
  },
  {
   "cell_type": "code",
   "execution_count": 34,
   "metadata": {},
   "outputs": [
    {
     "name": "stdout",
     "output_type": "stream",
     "text": [
      "['ABC', 'abc@gmail.com', '9123456789\\n']\n",
      "['PQR', 'pqr@gmail.com', '9123456789\\n']\n",
      "['RST', 'rst@gmail.com', '9123456789\\n']\n",
      "['ASE', 'ase@gmail.com', '9123456789']\n"
     ]
    }
   ],
   "source": [
    "fp = open(\"input.txt\",\"r\")\n",
    "fp1 = open(\"output.txt\",\"w\")\n",
    "content = fp.readlines()\n",
    "\n",
    "for line in content:\n",
    "    l = line.split(\",\")\n",
    "    print(l)\n",
    "    fp1.write(\"{},{}\".format(l[0],l[2]))\n",
    "\n",
    "fp.close()\n",
    "fp1.close()"
   ]
  },
  {
   "cell_type": "code",
   "execution_count": null,
   "metadata": {},
   "outputs": [],
   "source": [
    "xml \n",
    "json "
   ]
  },
  {
   "cell_type": "markdown",
   "metadata": {},
   "source": [
    "json                      python\n",
    "str \" \"                   '' \"\" \"\"\" \"\"\"\n",
    "array [10,20,30]          list \n",
    "number 10,15.255          int float \n",
    "object{\"key\":\"value\"}     dict\n",
    "                          tuple \n",
    "                          set\n",
    "true,false                True False"
   ]
  },
  {
   "cell_type": "code",
   "execution_count": 46,
   "metadata": {},
   "outputs": [
    {
     "name": "stdout",
     "output_type": "stream",
     "text": [
      "{\n",
      "    \"glossary\": {\n",
      "        \"title\": \"New title for json\",\n",
      "        \"GlossDiv\": {\n",
      "            \"title\": \"S\",\n",
      "            \"GlossList\": {\n",
      "                \"GlossEntry\": {\n",
      "                    \"ID\": [\n",
      "                        \"SGML\",\n",
      "                        \"HTML\"\n",
      "                    ],\n",
      "                    \"SortAs\": \"SGML\",\n",
      "                    \"GlossTerm\": \"Standard Generalized Markup Language\",\n",
      "                    \"Acronym\": \"SGML\",\n",
      "                    \"Abbrev\": \"ISO 8879:1986\",\n",
      "                    \"GlossDef\": {\n",
      "                        \"para\": \"A meta-markup language, used to create markup languages such as DocBook.\",\n",
      "                        \"GlossSeeAlso\": [\n",
      "                            \"GML\",\n",
      "                            \"XML\"\n",
      "                        ]\n",
      "                    },\n",
      "                    \"GlossSee\": \"markup\"\n",
      "                }\n",
      "            }\n",
      "        }\n",
      "    }\n",
      "}\n"
     ]
    }
   ],
   "source": [
    "import json \n",
    "fp = open(\"test.json\",\"r\")\n",
    "content = fp.read()\n",
    "d = json.loads(content)\n",
    "# print(d['glossary']['title'])\n",
    "d['glossary']['title'] = \"New title for json\"\n",
    "# print(d['glossary']['GlossDiv']['GlossList']['GlossEntry']['ID'])\n",
    "d['glossary']['GlossDiv']['GlossList']['GlossEntry']['ID'] = (\"SGML\",\"HTML\")\n",
    "# print(d)\n",
    "\n",
    "j = json.dumps(d,indent=4)\n",
    "print(j)\n",
    "\n",
    "fp1 = open(\"test1.json\",\"w\")\n",
    "fp1.write(j)\n",
    "fp1.close()\n",
    "fp.close()"
   ]
  },
  {
   "cell_type": "code",
   "execution_count": null,
   "metadata": {},
   "outputs": [],
   "source": []
  },
  {
   "cell_type": "code",
   "execution_count": 45,
   "metadata": {},
   "outputs": [
    {
     "name": "stdout",
     "output_type": "stream",
     "text": [
      "10 Hi\n"
     ]
    }
   ],
   "source": [
    "print(10,end=\" \")\n",
    "print(\"Hi\")"
   ]
  },
  {
   "cell_type": "code",
   "execution_count": null,
   "metadata": {},
   "outputs": [],
   "source": [
    "<note>\n",
    "    <to>PQR</to>\n",
    "    <from>XYZ</from>\n",
    "    <message>session at 2</message>\n",
    "</note>"
   ]
  },
  {
   "cell_type": "code",
   "execution_count": null,
   "metadata": {},
   "outputs": [],
   "source": [
    "pip install xmltodict"
   ]
  },
  {
   "cell_type": "code",
   "execution_count": 50,
   "metadata": {},
   "outputs": [
    {
     "name": "stdout",
     "output_type": "stream",
     "text": [
      "example glossary\n",
      "<?xml version=\"1.0\" encoding=\"utf-8\"?>\n",
      "<glossary><title>new titile for xml</title><GlossDiv><title>S</title><GlossList><GlossEntry ID=\"SGML\" SortAs=\"SGML\"><GlossTerm>Standard Generalized Markup Language</GlossTerm><Acronym>SGML</Acronym><Abbrev>ISO 8879:1986</Abbrev><GlossDef><para>A meta-markup language, used to create markup\n",
      "languages such as DocBook.</para><GlossSeeAlso OtherTerm=\"GML\"></GlossSeeAlso><GlossSeeAlso OtherTerm=\"XML\"></GlossSeeAlso></GlossDef><GlossSee OtherTerm=\"markup\"></GlossSee></GlossEntry></GlossList></GlossDiv></glossary>\n"
     ]
    }
   ],
   "source": [
    "import xmltodict\n",
    "fp = open(\"test.xml\",\"r\")\n",
    "content = fp.read()\n",
    "d = xmltodict.parse(content)\n",
    "print(d['glossary']['title'])\n",
    "\n",
    "d['glossary']['title'] = \"new titile for xml\"\n",
    "\n",
    "x = xmltodict.unparse(d)\n",
    "print(x)\n",
    "fp.close()"
   ]
  },
  {
   "cell_type": "code",
   "execution_count": null,
   "metadata": {},
   "outputs": [],
   "source": []
  },
  {
   "cell_type": "code",
   "execution_count": null,
   "metadata": {},
   "outputs": [],
   "source": [
    "html parsing DOM tree"
   ]
  }
 ],
 "metadata": {
  "kernelspec": {
   "display_name": "Python 3",
   "language": "python",
   "name": "python3"
  },
  "language_info": {
   "codemirror_mode": {
    "name": "ipython",
    "version": 3
   },
   "file_extension": ".py",
   "mimetype": "text/x-python",
   "name": "python",
   "nbconvert_exporter": "python",
   "pygments_lexer": "ipython3",
   "version": "3.6.5"
  }
 },
 "nbformat": 4,
 "nbformat_minor": 2
}
