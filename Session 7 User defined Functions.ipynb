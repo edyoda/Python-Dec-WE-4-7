{
 "cells": [
  {
   "cell_type": "code",
   "execution_count": null,
   "metadata": {},
   "outputs": [],
   "source": [
    "code resuse \n",
    "easy to maintain \n",
    "\n"
   ]
  },
  {
   "cell_type": "code",
   "execution_count": null,
   "metadata": {},
   "outputs": [],
   "source": [
    "s = \"Python Java\"\n",
    "print(s.index(\"Python\"))"
   ]
  },
  {
   "cell_type": "code",
   "execution_count": 8,
   "metadata": {},
   "outputs": [
    {
     "name": "stdout",
     "output_type": "stream",
     "text": [
      "30\n",
      "PythonJava\n",
      "[10, 20, 30, 10, 20]\n"
     ]
    },
    {
     "ename": "TypeError",
     "evalue": "unsupported operand type(s) for +: 'int' and 'str'",
     "output_type": "error",
     "traceback": [
      "\u001b[1;31m---------------------------------------------------------------------------\u001b[0m",
      "\u001b[1;31mTypeError\u001b[0m                                 Traceback (most recent call last)",
      "\u001b[1;32m<ipython-input-8-17e1afe1b98b>\u001b[0m in \u001b[0;36m<module>\u001b[1;34m()\u001b[0m\n\u001b[0;32m     15\u001b[0m \u001b[1;33m\u001b[0m\u001b[0m\n\u001b[0;32m     16\u001b[0m \u001b[1;33m\u001b[0m\u001b[0m\n\u001b[1;32m---> 17\u001b[1;33m \u001b[0mresult\u001b[0m \u001b[1;33m=\u001b[0m \u001b[0madd\u001b[0m\u001b[1;33m(\u001b[0m\u001b[1;36m10\u001b[0m\u001b[1;33m,\u001b[0m\u001b[1;34m\"Python\"\u001b[0m\u001b[1;33m)\u001b[0m\u001b[1;33m\u001b[0m\u001b[0m\n\u001b[0m\u001b[0;32m     18\u001b[0m \u001b[0mprint\u001b[0m\u001b[1;33m(\u001b[0m\u001b[0mresult\u001b[0m\u001b[1;33m)\u001b[0m\u001b[1;33m\u001b[0m\u001b[0m\n\u001b[0;32m     19\u001b[0m \u001b[1;33m\u001b[0m\u001b[0m\n",
      "\u001b[1;32m<ipython-input-8-17e1afe1b98b>\u001b[0m in \u001b[0;36madd\u001b[1;34m(num1, num2)\u001b[0m\n\u001b[0;32m      1\u001b[0m \u001b[1;32mdef\u001b[0m \u001b[0madd\u001b[0m\u001b[1;33m(\u001b[0m\u001b[0mnum1\u001b[0m\u001b[1;33m,\u001b[0m\u001b[0mnum2\u001b[0m\u001b[1;33m)\u001b[0m\u001b[1;33m:\u001b[0m\u001b[1;33m\u001b[0m\u001b[0m\n\u001b[1;32m----> 2\u001b[1;33m     \u001b[0mnum3\u001b[0m \u001b[1;33m=\u001b[0m \u001b[0mnum1\u001b[0m \u001b[1;33m+\u001b[0m \u001b[0mnum2\u001b[0m\u001b[1;33m\u001b[0m\u001b[0m\n\u001b[0m\u001b[0;32m      3\u001b[0m     \u001b[1;32mreturn\u001b[0m \u001b[0mnum3\u001b[0m\u001b[1;33m\u001b[0m\u001b[0m\n\u001b[0;32m      4\u001b[0m \u001b[1;33m\u001b[0m\u001b[0m\n\u001b[0;32m      5\u001b[0m \u001b[0mresult\u001b[0m \u001b[1;33m=\u001b[0m \u001b[0madd\u001b[0m\u001b[1;33m(\u001b[0m\u001b[1;36m10\u001b[0m\u001b[1;33m,\u001b[0m\u001b[1;36m20\u001b[0m\u001b[1;33m)\u001b[0m\u001b[1;33m\u001b[0m\u001b[0m\n",
      "\u001b[1;31mTypeError\u001b[0m: unsupported operand type(s) for +: 'int' and 'str'"
     ]
    }
   ],
   "source": [
    "def add(num1,num2):\n",
    "    num3 = num1 + num2\n",
    "    return num3\n",
    "\n",
    "result = add(10,20)\n",
    "print(result)\n",
    "\n",
    "result = add(\"Python\",\"Java\")\n",
    "print(result)\n",
    "\n",
    "\n",
    "\n",
    "result = add([10,20,30],[10,20])\n",
    "print(result)\n",
    "\n",
    "\n",
    "result = add(10,\"Python\")\n",
    "print(result)\n",
    "\n",
    "\n",
    "\n"
   ]
  },
  {
   "cell_type": "code",
   "execution_count": 24,
   "metadata": {},
   "outputs": [
    {
     "ename": "TypeError",
     "evalue": "linear_search() takes 2 positional arguments but 3 were given",
     "output_type": "error",
     "traceback": [
      "\u001b[1;31m---------------------------------------------------------------------------\u001b[0m",
      "\u001b[1;31mTypeError\u001b[0m                                 Traceback (most recent call last)",
      "\u001b[1;32m<ipython-input-24-16e43649c2ea>\u001b[0m in \u001b[0;36m<module>\u001b[1;34m()\u001b[0m\n\u001b[0;32m      9\u001b[0m \u001b[0ml\u001b[0m \u001b[1;33m=\u001b[0m \u001b[1;33m[\u001b[0m\u001b[1;36m10\u001b[0m\u001b[1;33m,\u001b[0m\u001b[1;36m20\u001b[0m\u001b[1;33m,\u001b[0m\u001b[1;36m30\u001b[0m\u001b[1;33m,\u001b[0m\u001b[1;36m40\u001b[0m\u001b[1;33m,\u001b[0m\u001b[1;36m50\u001b[0m\u001b[1;33m,\u001b[0m\u001b[1;36m60\u001b[0m\u001b[1;33m]\u001b[0m\u001b[1;33m\u001b[0m\u001b[0m\n\u001b[0;32m     10\u001b[0m \u001b[0mkey\u001b[0m \u001b[1;33m=\u001b[0m \u001b[1;36m500\u001b[0m\u001b[1;33m\u001b[0m\u001b[0m\n\u001b[1;32m---> 11\u001b[1;33m \u001b[0mresult\u001b[0m \u001b[1;33m=\u001b[0m \u001b[0mlinear_search\u001b[0m\u001b[1;33m(\u001b[0m\u001b[0ml\u001b[0m\u001b[1;33m,\u001b[0m\u001b[1;36m100\u001b[0m\u001b[1;33m,\u001b[0m\u001b[1;36m200\u001b[0m\u001b[1;33m)\u001b[0m\u001b[1;33m\u001b[0m\u001b[0m\n\u001b[0m\u001b[0;32m     12\u001b[0m \u001b[0mprint\u001b[0m\u001b[1;33m(\u001b[0m\u001b[0mresult\u001b[0m\u001b[1;33m)\u001b[0m\u001b[1;33m\u001b[0m\u001b[0m\n",
      "\u001b[1;31mTypeError\u001b[0m: linear_search() takes 2 positional arguments but 3 were given"
     ]
    }
   ],
   "source": [
    "def linear_search(l,key):\n",
    "    for value in l:\n",
    "\n",
    "        if value == key:\n",
    "            return True\n",
    "    else:\n",
    "        return False\n",
    "\n",
    "l = [10,20,30,40,50,60]\n",
    "key = 500\n",
    "result = linear_search(l,key)\n",
    "print(result)"
   ]
  },
  {
   "cell_type": "code",
   "execution_count": 15,
   "metadata": {},
   "outputs": [
    {
     "name": "stdout",
     "output_type": "stream",
     "text": [
      "78\n"
     ]
    }
   ],
   "source": [
    "def find_max(l):\n",
    "    s = set(l)\n",
    "    l = sorted(s)\n",
    "    return l[-2]\n",
    "\n",
    "l = [78,45,10,25,45,7,8,96,25,25,75,96,10]\n",
    "print(find_max(l))\n",
    "\n",
    "\n"
   ]
  },
  {
   "cell_type": "code",
   "execution_count": 19,
   "metadata": {},
   "outputs": [
    {
     "name": "stdout",
     "output_type": "stream",
     "text": [
      "642\n"
     ]
    }
   ],
   "source": [
    "def add_ascii(s):\n",
    "    sum =0 \n",
    "    for value in s:\n",
    "        sum = sum + ord(value)\n",
    "    return sum\n",
    "s = \"Python\"\n",
    "print(add_ascii(s))"
   ]
  },
  {
   "cell_type": "code",
   "execution_count": 21,
   "metadata": {},
   "outputs": [
    {
     "name": "stdout",
     "output_type": "stream",
     "text": [
      "[0, 1, 1, 2, 3, 5, 8, 13, 21, 34, 55, 89, 144, 233, 377, 610]\n"
     ]
    }
   ],
   "source": [
    "def fibo(num):\n",
    "    l = []\n",
    "    num1 = 0\n",
    "    num2 = 1\n",
    "    l.append(num1)\n",
    "    l.append(num2)\n",
    "    count = 2\n",
    "    while(count<= num):\n",
    "        nextnum = num1 + num2        \n",
    "        l.append(nextnum)\n",
    "        num1,num2 = num2,nextnum\n",
    "        count+=1\n",
    "    return l\n",
    "\n",
    "print(fibo(15))"
   ]
  },
  {
   "cell_type": "code",
   "execution_count": null,
   "metadata": {},
   "outputs": [],
   "source": [
    "0,1,1,2,3,5......"
   ]
  },
  {
   "cell_type": "code",
   "execution_count": 22,
   "metadata": {},
   "outputs": [
    {
     "name": "stdout",
     "output_type": "stream",
     "text": [
      "Qzuipo\n"
     ]
    }
   ],
   "source": [
    "def next_char(s):\n",
    "    s1 = \"\"\n",
    "    for value in s:\n",
    "        s1 = s1 + chr(ord(value)+1)\n",
    "    return s1\n",
    "\n",
    "s = \"Python\"\n",
    "print(next_char(s))"
   ]
  },
  {
   "cell_type": "code",
   "execution_count": null,
   "metadata": {},
   "outputs": [],
   "source": [
    "Parameter passing techniques:\n",
    "    1 Positional args => total no of args in fun def and func call should be same ,sequential mapping  \n",
    "    2 Default args => set default value for a func param , if value not provided in fun call it will pick default value\n",
    "    3 Varible length positionl args => packing => *args => tuple \n",
    "    4 Keyword args in fun call ,specify the keywords , mapping on keywords not sequential \n",
    "    5 Variable length keyword => packing **kwargs => dict  \n",
    "    6 Unpacking *l,**d \n",
    "    \n",
    "    "
   ]
  },
  {
   "cell_type": "code",
   "execution_count": 31,
   "metadata": {},
   "outputs": [
    {
     "name": "stdout",
     "output_type": "stream",
     "text": [
      "10 20 0\n",
      "30\n"
     ]
    }
   ],
   "source": [
    "def add(num1=0,num2=0,num3=0):\n",
    "    print(num1,num2,num3)\n",
    "    return num1+num2+num3\n",
    "\n",
    "print(add(10,20))"
   ]
  },
  {
   "cell_type": "code",
   "execution_count": 32,
   "metadata": {},
   "outputs": [
    {
     "name": "stdout",
     "output_type": "stream",
     "text": [
      "7vU35\n"
     ]
    }
   ],
   "source": [
    "import random\n",
    "def gen_pass(num = 8):\n",
    "    upper = chr(random.randint(ord('A'),ord('Z')))\n",
    "    lower = chr(random.randint(ord('a'),ord('z')))\n",
    "    l = ['!','@','#','$','&']\n",
    "    special = random.choice(l)\n",
    "    \n",
    "    digits = random.randint(10000,99999)\n",
    "    s = upper+lower+special+str(digits)\n",
    "    l2 = random.sample(s,num)\n",
    "    password  = (\"\").join(l2)\n",
    "    return password\n",
    "\n",
    "print(gen_pass(5)) \n"
   ]
  },
  {
   "cell_type": "code",
   "execution_count": 34,
   "metadata": {},
   "outputs": [
    {
     "name": "stdout",
     "output_type": "stream",
     "text": [
      "10 20 Python\n",
      "Help on built-in function print in module builtins:\n",
      "\n",
      "print(...)\n",
      "    print(value, ..., sep=' ', end='\\n', file=sys.stdout, flush=False)\n",
      "    \n",
      "    Prints the values to a stream, or to sys.stdout by default.\n",
      "    Optional keyword arguments:\n",
      "    file:  a file-like object (stream); defaults to the current sys.stdout.\n",
      "    sep:   string inserted between values, default a space.\n",
      "    end:   string appended after the last value, default a newline.\n",
      "    flush: whether to forcibly flush the stream.\n",
      "\n"
     ]
    }
   ],
   "source": [
    "print(10,20,end = \" \")\n",
    "\n",
    "print(\"Python\")\n",
    "\n",
    "help(print)"
   ]
  },
  {
   "cell_type": "code",
   "execution_count": 39,
   "metadata": {},
   "outputs": [
    {
     "name": "stdout",
     "output_type": "stream",
     "text": [
      "150\n",
      "60\n",
      "280\n"
     ]
    }
   ],
   "source": [
    "def add(*args):\n",
    "    return sum(args)\n",
    "\n",
    "print(add(10,20,30,40,50))\n",
    "print(add(10,20,30))\n",
    "print(add(10,20,30,40,50,60,70))"
   ]
  },
  {
   "cell_type": "code",
   "execution_count": 54,
   "metadata": {},
   "outputs": [
    {
     "name": "stdout",
     "output_type": "stream",
     "text": [
      "[44, 88, 132, 176, 220]\n"
     ]
    }
   ],
   "source": [
    "def add(*args): \n",
    "    l = []\n",
    "    for index in range(len(args[0])):\n",
    "        sum = 0 \n",
    "        for value in args:\n",
    "            sum = sum + value[index]\n",
    "        l.append(sum)            \n",
    "    return l\n",
    "\n",
    "l1 = [1,2,3,4,5]\n",
    "l2 = [10,20,30,40,50]\n",
    "\n",
    "l3 = add(l1,l2)\n",
    "\n",
    "l4 = add(l1,l2,l3)\n",
    "l5 = add(l1,l2,l3,l4)\n",
    "print(l5)"
   ]
  },
  {
   "cell_type": "code",
   "execution_count": 60,
   "metadata": {},
   "outputs": [
    {
     "name": "stdout",
     "output_type": "stream",
     "text": [
      "Valid credentials \n",
      "Valid credentials \n"
     ]
    }
   ],
   "source": [
    "def user_auth(username,password):\n",
    "    if username ==\"abc\" and password ==\"abc@123\":\n",
    "        print(\"Valid credentials \")\n",
    "    else:\n",
    "        print(\"Invalid\")\n",
    "        \n",
    "user_auth(\"abc\",\"abc@123\")\n",
    "user_auth(password = \"abc@123\",username = \"abc\")"
   ]
  },
  {
   "cell_type": "code",
   "execution_count": 67,
   "metadata": {},
   "outputs": [
    {
     "name": "stdout",
     "output_type": "stream",
     "text": [
      "(10, 20, 30, 40, 50) {'username': 'abc', 'email': 'abc@gmail.com', 'contact': '9123456789', 'dob': '12-1-2019'}\n",
      "() {'username': 'abc', 'email': 'abc@gmail.com', 'dob': '12-1-2019'}\n",
      "() {'username': 'abc', 'contact': '9123456789', 'dob': '12-1-2019'}\n"
     ]
    }
   ],
   "source": [
    "def user_details(*args,**kwargs):\n",
    "    print(args,kwargs)\n",
    "\n",
    "user_details(10,20,30,40,50,username=\"abc\",email=\"abc@gmail.com\",contact = \"9123456789\",dob=\"12-1-2019\")\n",
    "user_details(username=\"abc\",email=\"abc@gmail.com\",dob=\"12-1-2019\")\n",
    "user_details(username=\"abc\",contact = \"9123456789\",dob=\"12-1-2019\")"
   ]
  },
  {
   "cell_type": "code",
   "execution_count": 73,
   "metadata": {},
   "outputs": [
    {
     "name": "stdout",
     "output_type": "stream",
     "text": [
      "10 20 30\n"
     ]
    }
   ],
   "source": [
    "def add(num1,num2,num3):\n",
    "    print(num1,num2,num3)\n",
    "    \n",
    "l = [10,20,30]\n",
    "d = {\"num2\":20,\"num3\":30,\"num1\":10}\n",
    "add(**d)\n",
    "add(*l)"
   ]
  }
 ],
 "metadata": {
  "kernelspec": {
   "display_name": "Python 3",
   "language": "python",
   "name": "python3"
  },
  "language_info": {
   "codemirror_mode": {
    "name": "ipython",
    "version": 3
   },
   "file_extension": ".py",
   "mimetype": "text/x-python",
   "name": "python",
   "nbconvert_exporter": "python",
   "pygments_lexer": "ipython3",
   "version": "3.6.5"
  }
 },
 "nbformat": 4,
 "nbformat_minor": 2
}
