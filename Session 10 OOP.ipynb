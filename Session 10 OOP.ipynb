{
 "cells": [
  {
   "cell_type": "code",
   "execution_count": null,
   "metadata": {},
   "outputs": [],
   "source": [
    "OOP:\n",
    "    class \n",
    "    objects"
   ]
  },
  {
   "cell_type": "code",
   "execution_count": null,
   "metadata": {},
   "outputs": [],
   "source": [
    "Paytm :\n",
    "Class\n",
    "    data members : \n",
    "    ph no \n",
    "    email \n",
    "    kyc \n",
    "    payment details \n",
    "   \n",
    "    methods:\n",
    "    pay \n",
    "    add money to wallet \n",
    "    rechange \n",
    "    book tickets \n",
    "    \n",
    "Objects : \n",
    "user1 \n",
    "user2 \n",
    "user3\n",
    "    "
   ]
  },
  {
   "cell_type": "code",
   "execution_count": null,
   "metadata": {},
   "outputs": [],
   "source": [
    "Emp :\n",
    "    id \n",
    "    name \n",
    "    email \n",
    "    sal \n",
    "    \n",
    "    \n",
    "    get_details \n",
    "    incr_sal\n",
    "    set_dept\n",
    "    \n",
    "emp1\n",
    "emp2\n",
    "emp3 \n"
   ]
  },
  {
   "cell_type": "code",
   "execution_count": 7,
   "metadata": {},
   "outputs": [
    {
     "name": "stdout",
     "output_type": "stream",
     "text": [
      "<__main__.Emp object at 0x000002810910C940>\n",
      "<__main__.Emp object at 0x000002810910C940>\n",
      "<__main__.Emp object at 0x000002810910C940>\n",
      "<__main__.Emp object at 0x000002810910C940>\n"
     ]
    }
   ],
   "source": [
    "class Emp:\n",
    "    count = 0 \n",
    "    emps = []\n",
    "    \n",
    "    def __init__(self,id,name,email,sal):\n",
    "        self.id = id\n",
    "        self.name = name\n",
    "        self.email = email \n",
    "        self.sal = sal\n",
    "        \n",
    "        Emp.count +=1\n",
    "        Emp.emps.append(self)\n",
    "        \n",
    "        \n",
    "    def set_dept(self,dept_name):\n",
    "        self.dept_name = dept_name\n",
    "        \n",
    "    def get_details(self):\n",
    "        return self.id,self.name,self.email,self.sal\n",
    "    \n",
    "    def incr_sal(self,per = 30):\n",
    "        self.sal = self.sal + (self.sal * per)/100\n",
    "        return self.sal\n",
    "\n",
    "emp1 = Emp(101,\"ABC\",\"abc@xyz.com\",65000)\n",
    "print(emp1)\n",
    "\n",
    "emp2 = Emp(102,\"PQR\",\"pqr@xyz.com\",75000)\n",
    "print(emp1)\n",
    "\n",
    "emp3 = Emp(103,\"XYZ\",\"abc@xyz.com\",65000)\n",
    "print(emp1)\n",
    "\n",
    "emp4 = Emp(104,\"POI\",\"pqr@xyz.com\",75000)\n",
    "print(emp1)"
   ]
  },
  {
   "cell_type": "code",
   "execution_count": 9,
   "metadata": {},
   "outputs": [
    {
     "name": "stdout",
     "output_type": "stream",
     "text": [
      "[<__main__.Emp object at 0x000002810910C940>, <__main__.Emp object at 0x0000028109115390>, <__main__.Emp object at 0x0000028109204748>, <__main__.Emp object at 0x00000281092047F0>]\n",
      "84500.0\n",
      "97500.0\n",
      "84500.0\n",
      "97500.0\n"
     ]
    }
   ],
   "source": [
    "print(Emp.emps)\n",
    "for emp in Emp.emps:\n",
    "    print(emp.incr_sal())"
   ]
  },
  {
   "cell_type": "code",
   "execution_count": 3,
   "metadata": {},
   "outputs": [
    {
     "name": "stdout",
     "output_type": "stream",
     "text": [
      "101 ABC abc@xyz.com 65000\n",
      "102 PQR pqr@xyz.com 75000\n"
     ]
    }
   ],
   "source": [
    "print(emp1.id,emp1.name,emp1.email,emp1.sal)\n",
    "print(emp2.id,emp2.name,emp2.email,emp2.sal)"
   ]
  },
  {
   "cell_type": "code",
   "execution_count": 7,
   "metadata": {},
   "outputs": [
    {
     "name": "stdout",
     "output_type": "stream",
     "text": [
      "(101, 'ABC', 'abc@xyz.com', 65000)\n",
      "(102, 'PQR', 'pqr@xyz.com', 75000)\n"
     ]
    }
   ],
   "source": [
    "print(emp1.get_details())\n",
    "print(emp2.get_details())\n",
    "# Emp.get_details(emp1)"
   ]
  },
  {
   "cell_type": "code",
   "execution_count": 11,
   "metadata": {},
   "outputs": [
    {
     "name": "stdout",
     "output_type": "stream",
     "text": [
      "91000.0\n",
      "97500.0\n"
     ]
    }
   ],
   "source": [
    "print(emp1.incr_sal(40))\n",
    "print(emp2.incr_sal())"
   ]
  },
  {
   "cell_type": "code",
   "execution_count": 14,
   "metadata": {},
   "outputs": [
    {
     "name": "stdout",
     "output_type": "stream",
     "text": [
      "HR\n"
     ]
    }
   ],
   "source": [
    "emp1.set_dept(\"HR\")\n",
    "print(emp1.dept_name)"
   ]
  },
  {
   "cell_type": "code",
   "execution_count": 3,
   "metadata": {},
   "outputs": [
    {
     "name": "stdout",
     "output_type": "stream",
     "text": [
      "{'id': 102, 'name': 'PQR', 'email': 'pqr@xyz.com', 'sal': 75000, 'dept_name': 'Admin'}\n",
      "Admin\n",
      "{'id': 102, 'name': 'PQR', 'email': 'pqr@xyz.com', 'sal': 75000, 'dept_name': 'Admin'}\n"
     ]
    }
   ],
   "source": [
    "print(emp2.__dict__)\n",
    "emp2.set_dept(\"Admin\")\n",
    "print(emp2.dept_name)\n",
    "print(emp2.__dict__)"
   ]
  },
  {
   "cell_type": "code",
   "execution_count": 4,
   "metadata": {},
   "outputs": [
    {
     "name": "stdout",
     "output_type": "stream",
     "text": [
      "<__main__.Emp object at 0x000001AB46B47DA0>\n"
     ]
    }
   ],
   "source": [
    "class Emp:\n",
    "    def create(self,id,name,email,sal):\n",
    "        self.id = id\n",
    "        self.name = name\n",
    "        self.email = email \n",
    "        self.sal = sal \n",
    "\n",
    "emp1 = Emp()\n",
    "emp1.create(101,\"ABC\",\"abc@xyz.com\",65000)\n",
    "print(emp1)\n",
    "\n",
    "# emp2 = Emp(102,\"PQR\",\"pqr@xyz.com\",75000)\n",
    "# print(emp1)"
   ]
  },
  {
   "cell_type": "code",
   "execution_count": 5,
   "metadata": {
    "scrolled": true
   },
   "outputs": [
    {
     "name": "stdout",
     "output_type": "stream",
     "text": [
      "2\n"
     ]
    }
   ],
   "source": [
    "print(Emp.count)"
   ]
  },
  {
   "cell_type": "code",
   "execution_count": 6,
   "metadata": {},
   "outputs": [
    {
     "name": "stdout",
     "output_type": "stream",
     "text": [
      "2\n"
     ]
    }
   ],
   "source": [
    "print(emp1.count)"
   ]
  },
  {
   "cell_type": "code",
   "execution_count": 3,
   "metadata": {},
   "outputs": [
    {
     "name": "stdout",
     "output_type": "stream",
     "text": [
      "{'id': 101, 'name': 'ABC', 'email': 'abc@xyz.com', 'sal': 65000}\n",
      "{'__module__': '__main__', 'count': 2, '__init__': <function Emp.__init__ at 0x00000281091E48C8>, 'set_dept': <function Emp.set_dept at 0x00000281091E4840>, 'get_details': <function Emp.get_details at 0x00000281091E4D90>, 'incr_sal': <function Emp.incr_sal at 0x00000281091E4EA0>, '__dict__': <attribute '__dict__' of 'Emp' objects>, '__weakref__': <attribute '__weakref__' of 'Emp' objects>, '__doc__': None}\n"
     ]
    }
   ],
   "source": [
    "print(emp1.__dict__)\n",
    "print(Emp.__dict__)"
   ]
  },
  {
   "cell_type": "code",
   "execution_count": 5,
   "metadata": {},
   "outputs": [
    {
     "name": "stdout",
     "output_type": "stream",
     "text": [
      "2\n",
      "100\n",
      "{'id': 101, 'name': 'ABC', 'email': 'abc@xyz.com', 'sal': 65000, 'count': 100}\n",
      "{'__module__': '__main__', 'count': 2, '__init__': <function Emp.__init__ at 0x00000281091E48C8>, 'set_dept': <function Emp.set_dept at 0x00000281091E4840>, 'get_details': <function Emp.get_details at 0x00000281091E4D90>, 'incr_sal': <function Emp.incr_sal at 0x00000281091E4EA0>, '__dict__': <attribute '__dict__' of 'Emp' objects>, '__weakref__': <attribute '__weakref__' of 'Emp' objects>, '__doc__': None}\n"
     ]
    }
   ],
   "source": [
    "emp1.count = 100\n",
    "print(Emp.count)\n",
    "print(emp1.count)\n",
    "print(emp1.__dict__)\n",
    "print(Emp.__dict__)"
   ]
  },
  {
   "cell_type": "code",
   "execution_count": null,
   "metadata": {},
   "outputs": [],
   "source": [
    "Student :\n",
    "    roll_no \n",
    "    name \n",
    "    marks = [50,50,40,50,60]\n",
    "    \n",
    "    cal_result \n",
    "    per and result\n",
    "    \n",
    "    \n",
    "    Details of all passed students \n",
    "    \n",
    "    Details of all failed student \n",
    "    \n",
    "    Details of topper"
   ]
  },
  {
   "cell_type": "code",
   "execution_count": 11,
   "metadata": {},
   "outputs": [],
   "source": [
    "class Student:\n",
    "    students = []\n",
    "    \n",
    "    def __init__(self,roll_no,name,marks):\n",
    "        self.roll_no = roll_no\n",
    "        self.name = name\n",
    "        self.marks = marks\n",
    "        \n",
    "        Student.students.append(self)\n",
    "        \n",
    "    def cal_result(self):\n",
    "        self.per = sum(self.marks) / 5\n",
    "        if self.per > 40:\n",
    "            self.result = \"Pass\"\n",
    "        else:\n",
    "            self.result = \"Fail\"\n",
    "    \n",
    "\n",
    "stud1 = Student(1,\"ABC\",[70,70,50,60,80])\n",
    "stud2 = Student(2,\"PQR\",[50,70,50,50,80])\n",
    "stud3 = Student(3,\"RST\",[20,30,30,30,35])\n",
    "stud4 = Student(4,\"XYZ\",[35,35,35,38,43])\n",
    "stud5 = Student(5,\"RRR\",[70,70,50,60,80])"
   ]
  },
  {
   "cell_type": "code",
   "execution_count": 12,
   "metadata": {},
   "outputs": [],
   "source": [
    "for stud in Student.students:\n",
    "    stud.cal_result()\n",
    "    \n",
    "    "
   ]
  },
  {
   "cell_type": "code",
   "execution_count": 14,
   "metadata": {},
   "outputs": [
    {
     "name": "stdout",
     "output_type": "stream",
     "text": [
      "3 RST 29.0\n",
      "4 XYZ 37.2\n"
     ]
    }
   ],
   "source": [
    "for stud in Student.students:\n",
    "    if stud.result == \"Fail\":\n",
    "        print(stud.roll_no,stud.name,stud.per)"
   ]
  },
  {
   "cell_type": "code",
   "execution_count": 16,
   "metadata": {},
   "outputs": [
    {
     "name": "stdout",
     "output_type": "stream",
     "text": [
      "1 ABC 66.0\n"
     ]
    }
   ],
   "source": [
    "max = 0\n",
    "obj = None\n",
    "\n",
    "for stud in Student.students:\n",
    "    if stud.per > max :\n",
    "        max = stud.per \n",
    "        obj = stud\n",
    "\n",
    "print(obj.roll_no,obj.name,obj.per)\n",
    "        "
   ]
  },
  {
   "cell_type": "code",
   "execution_count": 39,
   "metadata": {},
   "outputs": [
    {
     "name": "stdout",
     "output_type": "stream",
     "text": [
      "101 ABC\n",
      "101 ABC\n",
      "101 ABC\n",
      "101 ABC\n"
     ]
    }
   ],
   "source": [
    "class Emp:\n",
    "    count = 0 \n",
    "    emps = []\n",
    "    \n",
    "    @classmethod\n",
    "    def incr_count(cls):\n",
    "         cls.count +=1\n",
    "            \n",
    "    @classmethod\n",
    "    def add_emp(cls,obj):\n",
    "        cls.emps.append(obj)\n",
    "        \n",
    "    @classmethod\n",
    "    def get_count(cls):\n",
    "        return cls.count\n",
    "    \n",
    "    @classmethod\n",
    "    def get_all_emps(cls):\n",
    "        return cls.emps\n",
    "    \n",
    "    @staticmethod\n",
    "    def printVal(num1,num2):\n",
    "        print(num1,num2)\n",
    "    \n",
    "    def __init__(self,id,name,email,sal):\n",
    "        self.__id = id\n",
    "        self.__name = name\n",
    "        self.__email = email \n",
    "        self.__sal = sal\n",
    "        \n",
    "        Emp.incr_count()\n",
    "        Emp.add_emp(self)\n",
    "        \n",
    "    def get_id(self):\n",
    "        return self.__id\n",
    "    \n",
    "    def get_name(self):\n",
    "        return self.__name\n",
    "    \n",
    "    def set_name(self,new_name):\n",
    "        self.__name = new_name\n",
    "\n",
    "    def set_dept(self,dept_name):\n",
    "        self.__dept_name = dept_name\n",
    "        \n",
    "    def get_details(self):\n",
    "        return self.__id,self.__name,self.__email,self.__sal\n",
    "    \n",
    "    def incr_sal(self,per = 30):\n",
    "        self.__sal = self.__sal + (self.__sal * per)/100\n",
    "        return self.__sal\n",
    "    \n",
    "    def __str__(self):\n",
    "        return \"{} {}\".format(self.__id,self.__name)\n",
    "\n",
    "emp1 = Emp(101,\"ABC\",\"abc@xyz.com\",65000)\n",
    "print(emp1)\n",
    "\n",
    "emp2 = Emp(102,\"PQR\",\"pqr@xyz.com\",75000)\n",
    "print(emp1)\n",
    "\n",
    "emp3 = Emp(103,\"XYZ\",\"abc@xyz.com\",65000)\n",
    "print(emp1)\n",
    "\n",
    "emp4 = Emp(104,\"POI\",\"pqr@xyz.com\",75000)\n",
    "print(emp1)"
   ]
  },
  {
   "cell_type": "code",
   "execution_count": 40,
   "metadata": {},
   "outputs": [
    {
     "name": "stdout",
     "output_type": "stream",
     "text": [
      "101 ABC\n"
     ]
    }
   ],
   "source": [
    "print(emp1)"
   ]
  },
  {
   "cell_type": "code",
   "execution_count": 23,
   "metadata": {},
   "outputs": [
    {
     "name": "stdout",
     "output_type": "stream",
     "text": [
      "101\n"
     ]
    }
   ],
   "source": [
    "print(emp1.get_id())"
   ]
  },
  {
   "cell_type": "code",
   "execution_count": 26,
   "metadata": {},
   "outputs": [
    {
     "name": "stdout",
     "output_type": "stream",
     "text": [
      "ABC\n",
      "PQR\n"
     ]
    }
   ],
   "source": [
    "print(emp1.get_name())\n",
    "emp1.set_name(\"PQR\")\n",
    "print(emp1.get_name())\n"
   ]
  },
  {
   "cell_type": "code",
   "execution_count": 38,
   "metadata": {},
   "outputs": [
    {
     "name": "stdout",
     "output_type": "stream",
     "text": [
      "Python\n"
     ]
    }
   ],
   "source": [
    "s = \"Python\"\n",
    "print(s)"
   ]
  },
  {
   "cell_type": "code",
   "execution_count": 31,
   "metadata": {},
   "outputs": [
    {
     "name": "stdout",
     "output_type": "stream",
     "text": [
      "4\n",
      "[<__main__.Emp object at 0x000002810910CCF8>, <__main__.Emp object at 0x000002810910CB70>, <__main__.Emp object at 0x000002810910CE80>, <__main__.Emp object at 0x000002810910CEB8>]\n"
     ]
    }
   ],
   "source": [
    "print(Emp.get_count())\n",
    "print(Emp.get_all_emps())"
   ]
  },
  {
   "cell_type": "code",
   "execution_count": 33,
   "metadata": {},
   "outputs": [
    {
     "name": "stdout",
     "output_type": "stream",
     "text": [
      "10 20\n"
     ]
    }
   ],
   "source": [
    "Emp.printVal(10,20)"
   ]
  },
  {
   "cell_type": "code",
   "execution_count": 36,
   "metadata": {},
   "outputs": [
    {
     "name": "stdout",
     "output_type": "stream",
     "text": [
      "4\n",
      "<class 'str'>\n"
     ]
    }
   ],
   "source": [
    "s = str(\"Python\")\n",
    "print(s.index(\"o\"))\n",
    "print(type(s))"
   ]
  },
  {
   "cell_type": "code",
   "execution_count": null,
   "metadata": {},
   "outputs": [],
   "source": [
    "class str:\n",
    "    \n",
    "    def index(self,char):\n",
    "        \n",
    "        return index"
   ]
  },
  {
   "cell_type": "code",
   "execution_count": null,
   "metadata": {},
   "outputs": [],
   "source": [
    "Course :\n",
    "    id \n",
    "    course title \n",
    "    author \n",
    "    \n",
    "Tutorials :\n",
    "    id \n",
    "    title \n",
    "    content \n",
    "    course => course obj\n",
    "    \n",
    "all the tutorials from course Python \n",
    "All the tutorials by Author \"ABC\""
   ]
  }
 ],
 "metadata": {
  "kernelspec": {
   "display_name": "Python 3",
   "language": "python",
   "name": "python3"
  },
  "language_info": {
   "codemirror_mode": {
    "name": "ipython",
    "version": 3
   },
   "file_extension": ".py",
   "mimetype": "text/x-python",
   "name": "python",
   "nbconvert_exporter": "python",
   "pygments_lexer": "ipython3",
   "version": "3.6.5"
  }
 },
 "nbformat": 4,
 "nbformat_minor": 2
}
